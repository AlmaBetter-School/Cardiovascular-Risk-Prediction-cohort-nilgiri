{
  "nbformat": 4,
  "nbformat_minor": 0,
  "metadata": {
    "colab": {
      "name": "Cardiovascular Risk Prediction.ipynb",
      "provenance": [],
      "collapsed_sections": [],
      "mount_file_id": "1cDWDeGCUlDqcA-0s59NyvImu70CiFHb-",
      "authorship_tag": "ABX9TyNiqtMBBGYSk2qsLnWnIoGw",
      "include_colab_link": true
    },
    "kernelspec": {
      "name": "python3",
      "display_name": "Python 3"
    },
    "language_info": {
      "name": "python"
    }
  },
  "cells": [
    {
      "cell_type": "markdown",
      "metadata": {
        "id": "view-in-github",
        "colab_type": "text"
      },
      "source": [
        "<a href=\"https://colab.research.google.com/github/shirsh12/Cardiovascular-Risk-Prediction/blob/main/Cardiovascular_Risk_Prediction.ipynb\" target=\"_parent\"><img src=\"https://colab.research.google.com/assets/colab-badge.svg\" alt=\"Open In Colab\"/></a>"
      ]
    },
    {
      "cell_type": "code",
      "metadata": {
        "colab": {
          "base_uri": "https://localhost:8080/"
        },
        "id": "rAHsvQnVXUac",
        "outputId": "cdb418e7-1a29-4b60-e925-3ad7d6ee5c58"
      },
      "source": [
        "#mount drive\n",
        "from google.colab import drive\n",
        "drive.mount('/content/drive')"
      ],
      "execution_count": null,
      "outputs": [
        {
          "output_type": "stream",
          "text": [
            "Drive already mounted at /content/drive; to attempt to forcibly remount, call drive.mount(\"/content/drive\", force_remount=True).\n"
          ],
          "name": "stdout"
        }
      ]
    },
    {
      "cell_type": "code",
      "metadata": {
        "id": "f03QJw_QUssv"
      },
      "source": [
        "import numpy as np\n",
        "import pandas as pd\n",
        "%matplotlib inline\n",
        "import matplotlib.pyplot as plt\n",
        "import seaborn as sns\n",
        "from sklearn.impute import KNNImputer\n",
        "from sklearn.impute import SimpleImputer\n",
        "# Import and suppress warnings\n",
        "import warnings\n",
        "warnings.filterwarnings('ignore')\n",
        "import os"
      ],
      "execution_count": null,
      "outputs": []
    },
    {
      "cell_type": "code",
      "metadata": {
        "id": "uDL9UUF2XB25"
      },
      "source": [
        "#loading data set\n",
        "path= \"/content/drive/MyDrive/AlmaBetter/Cohort Nilgiri/Team Capstone Project - Cardiovascular Risk Prediction/data_cardiovascular_risk.csv\"\n",
        "\n",
        "main_data = pd.read_csv(path)"
      ],
      "execution_count": null,
      "outputs": []
    },
    {
      "cell_type": "code",
      "metadata": {
        "colab": {
          "base_uri": "https://localhost:8080/",
          "height": 226
        },
        "id": "iute3epMYOlb",
        "outputId": "184d769e-bb92-4a7a-d5db-c7c94c566fe4"
      },
      "source": [
        "#view\n",
        "main_data.head()"
      ],
      "execution_count": null,
      "outputs": [
        {
          "output_type": "execute_result",
          "data": {
            "text/html": [
              "<div>\n",
              "<style scoped>\n",
              "    .dataframe tbody tr th:only-of-type {\n",
              "        vertical-align: middle;\n",
              "    }\n",
              "\n",
              "    .dataframe tbody tr th {\n",
              "        vertical-align: top;\n",
              "    }\n",
              "\n",
              "    .dataframe thead th {\n",
              "        text-align: right;\n",
              "    }\n",
              "</style>\n",
              "<table border=\"1\" class=\"dataframe\">\n",
              "  <thead>\n",
              "    <tr style=\"text-align: right;\">\n",
              "      <th></th>\n",
              "      <th>id</th>\n",
              "      <th>age</th>\n",
              "      <th>education</th>\n",
              "      <th>sex</th>\n",
              "      <th>is_smoking</th>\n",
              "      <th>cigsPerDay</th>\n",
              "      <th>BPMeds</th>\n",
              "      <th>prevalentStroke</th>\n",
              "      <th>prevalentHyp</th>\n",
              "      <th>diabetes</th>\n",
              "      <th>totChol</th>\n",
              "      <th>sysBP</th>\n",
              "      <th>diaBP</th>\n",
              "      <th>BMI</th>\n",
              "      <th>heartRate</th>\n",
              "      <th>glucose</th>\n",
              "      <th>TenYearCHD</th>\n",
              "    </tr>\n",
              "  </thead>\n",
              "  <tbody>\n",
              "    <tr>\n",
              "      <th>0</th>\n",
              "      <td>0</td>\n",
              "      <td>64</td>\n",
              "      <td>2.0</td>\n",
              "      <td>F</td>\n",
              "      <td>YES</td>\n",
              "      <td>3.0</td>\n",
              "      <td>0.0</td>\n",
              "      <td>0</td>\n",
              "      <td>0</td>\n",
              "      <td>0</td>\n",
              "      <td>221.0</td>\n",
              "      <td>148.0</td>\n",
              "      <td>85.0</td>\n",
              "      <td>NaN</td>\n",
              "      <td>90.0</td>\n",
              "      <td>80.0</td>\n",
              "      <td>1</td>\n",
              "    </tr>\n",
              "    <tr>\n",
              "      <th>1</th>\n",
              "      <td>1</td>\n",
              "      <td>36</td>\n",
              "      <td>4.0</td>\n",
              "      <td>M</td>\n",
              "      <td>NO</td>\n",
              "      <td>0.0</td>\n",
              "      <td>0.0</td>\n",
              "      <td>0</td>\n",
              "      <td>1</td>\n",
              "      <td>0</td>\n",
              "      <td>212.0</td>\n",
              "      <td>168.0</td>\n",
              "      <td>98.0</td>\n",
              "      <td>29.77</td>\n",
              "      <td>72.0</td>\n",
              "      <td>75.0</td>\n",
              "      <td>0</td>\n",
              "    </tr>\n",
              "    <tr>\n",
              "      <th>2</th>\n",
              "      <td>2</td>\n",
              "      <td>46</td>\n",
              "      <td>1.0</td>\n",
              "      <td>F</td>\n",
              "      <td>YES</td>\n",
              "      <td>10.0</td>\n",
              "      <td>0.0</td>\n",
              "      <td>0</td>\n",
              "      <td>0</td>\n",
              "      <td>0</td>\n",
              "      <td>250.0</td>\n",
              "      <td>116.0</td>\n",
              "      <td>71.0</td>\n",
              "      <td>20.35</td>\n",
              "      <td>88.0</td>\n",
              "      <td>94.0</td>\n",
              "      <td>0</td>\n",
              "    </tr>\n",
              "    <tr>\n",
              "      <th>3</th>\n",
              "      <td>3</td>\n",
              "      <td>50</td>\n",
              "      <td>1.0</td>\n",
              "      <td>M</td>\n",
              "      <td>YES</td>\n",
              "      <td>20.0</td>\n",
              "      <td>0.0</td>\n",
              "      <td>0</td>\n",
              "      <td>1</td>\n",
              "      <td>0</td>\n",
              "      <td>233.0</td>\n",
              "      <td>158.0</td>\n",
              "      <td>88.0</td>\n",
              "      <td>28.26</td>\n",
              "      <td>68.0</td>\n",
              "      <td>94.0</td>\n",
              "      <td>1</td>\n",
              "    </tr>\n",
              "    <tr>\n",
              "      <th>4</th>\n",
              "      <td>4</td>\n",
              "      <td>64</td>\n",
              "      <td>1.0</td>\n",
              "      <td>F</td>\n",
              "      <td>YES</td>\n",
              "      <td>30.0</td>\n",
              "      <td>0.0</td>\n",
              "      <td>0</td>\n",
              "      <td>0</td>\n",
              "      <td>0</td>\n",
              "      <td>241.0</td>\n",
              "      <td>136.5</td>\n",
              "      <td>85.0</td>\n",
              "      <td>26.42</td>\n",
              "      <td>70.0</td>\n",
              "      <td>77.0</td>\n",
              "      <td>0</td>\n",
              "    </tr>\n",
              "  </tbody>\n",
              "</table>\n",
              "</div>"
            ],
            "text/plain": [
              "   id  age  education sex  ...    BMI  heartRate  glucose  TenYearCHD\n",
              "0   0   64        2.0   F  ...    NaN       90.0     80.0           1\n",
              "1   1   36        4.0   M  ...  29.77       72.0     75.0           0\n",
              "2   2   46        1.0   F  ...  20.35       88.0     94.0           0\n",
              "3   3   50        1.0   M  ...  28.26       68.0     94.0           1\n",
              "4   4   64        1.0   F  ...  26.42       70.0     77.0           0\n",
              "\n",
              "[5 rows x 17 columns]"
            ]
          },
          "metadata": {
            "tags": []
          },
          "execution_count": 4
        }
      ]
    },
    {
      "cell_type": "markdown",
      "metadata": {
        "id": "ttaYTzOvaTdJ"
      },
      "source": [
        "\n",
        "The dataset is from an ongoing cardiovascular studyon residents of the town of Framingham,Massachusetts. The classification goal is to predictwhether the patient has a 10-year risk offuture coronary heart disease (CHD). The dataset providesthe patients’ information. It includesover 4,000 records and 15 attributes.VariablesEach attribute is a potential risk factor. There are both demographic, behavioral, and medical riskfactors.\n",
        "#**Data DescriptionDemographic:**\n",
        "\n",
        "*  Sex: male or female(\"M\" or \"F\")\n",
        "*  Age: Age of the patient;(Continuous - Although therecorded ages have been truncated towhole numbers, the concept of age is continuous)Behavioral\n",
        "* is_smoking: whether or not the patient is a currentsmoker (\"YES\" or \"NO\")\n",
        "* Cigs Per Day: the number of cigarettes that theperson smoked on average in one day.(can beconsidered continuous as one can have any number ofcigarettes, even half a cigarette.)Medical( history)\n",
        "* BP Meds: whether or not the patient was on bloodpressure medication (Nominal)\n",
        "* Prevalent Stroke: whether or not the patient hadpreviously had a stroke (Nominal)\n",
        "* Prevalent Hyp: whether or not the patient was hypertensive(Nominal)\n",
        "* Diabetes: whether or not the patient had diabetes(Nominal)Medical(current)\n",
        "* Tot Chol: total cholesterol level (Continuous)\n",
        "* Sys BP: systolic blood pressure (Continuous)\n",
        "* Dia BP: diastolic blood pressure (Continuous)\n",
        "* BMI: Body Mass Index (Continuous)\n",
        "* Heart Rate: heart rate (Continuous - In medicalresearch, variables such as heart rate though infact discrete, yet are considered continuous becauseof large number of possible values.)\n",
        "* Glucose: glucose level (Continuous)Predict variable (desired target)\n",
        "* 10-year risk of coronary heart disease CHD(binary:“1”, means “Yes”, “0” means “No”) -DV\n"
      ]
    },
    {
      "cell_type": "code",
      "metadata": {
        "colab": {
          "base_uri": "https://localhost:8080/",
          "height": 320
        },
        "id": "m_ykKBpZYsuF",
        "outputId": "b72b155e-8133-469d-d1f0-8ebefcd57d72"
      },
      "source": [
        "#descriptive stats\n",
        "main_data.describe()"
      ],
      "execution_count": null,
      "outputs": [
        {
          "output_type": "execute_result",
          "data": {
            "text/html": [
              "<div>\n",
              "<style scoped>\n",
              "    .dataframe tbody tr th:only-of-type {\n",
              "        vertical-align: middle;\n",
              "    }\n",
              "\n",
              "    .dataframe tbody tr th {\n",
              "        vertical-align: top;\n",
              "    }\n",
              "\n",
              "    .dataframe thead th {\n",
              "        text-align: right;\n",
              "    }\n",
              "</style>\n",
              "<table border=\"1\" class=\"dataframe\">\n",
              "  <thead>\n",
              "    <tr style=\"text-align: right;\">\n",
              "      <th></th>\n",
              "      <th>id</th>\n",
              "      <th>age</th>\n",
              "      <th>education</th>\n",
              "      <th>cigsPerDay</th>\n",
              "      <th>BPMeds</th>\n",
              "      <th>prevalentStroke</th>\n",
              "      <th>prevalentHyp</th>\n",
              "      <th>diabetes</th>\n",
              "      <th>totChol</th>\n",
              "      <th>sysBP</th>\n",
              "      <th>diaBP</th>\n",
              "      <th>BMI</th>\n",
              "      <th>heartRate</th>\n",
              "      <th>glucose</th>\n",
              "      <th>TenYearCHD</th>\n",
              "    </tr>\n",
              "  </thead>\n",
              "  <tbody>\n",
              "    <tr>\n",
              "      <th>count</th>\n",
              "      <td>3390.000000</td>\n",
              "      <td>3390.000000</td>\n",
              "      <td>3303.000000</td>\n",
              "      <td>3368.000000</td>\n",
              "      <td>3346.000000</td>\n",
              "      <td>3390.000000</td>\n",
              "      <td>3390.000000</td>\n",
              "      <td>3390.000000</td>\n",
              "      <td>3352.000000</td>\n",
              "      <td>3390.00000</td>\n",
              "      <td>3390.000000</td>\n",
              "      <td>3376.000000</td>\n",
              "      <td>3389.000000</td>\n",
              "      <td>3086.000000</td>\n",
              "      <td>3390.000000</td>\n",
              "    </tr>\n",
              "    <tr>\n",
              "      <th>mean</th>\n",
              "      <td>1694.500000</td>\n",
              "      <td>49.542183</td>\n",
              "      <td>1.970936</td>\n",
              "      <td>9.069477</td>\n",
              "      <td>0.029886</td>\n",
              "      <td>0.006490</td>\n",
              "      <td>0.315339</td>\n",
              "      <td>0.025664</td>\n",
              "      <td>237.074284</td>\n",
              "      <td>132.60118</td>\n",
              "      <td>82.883038</td>\n",
              "      <td>25.794964</td>\n",
              "      <td>75.977279</td>\n",
              "      <td>82.086520</td>\n",
              "      <td>0.150737</td>\n",
              "    </tr>\n",
              "    <tr>\n",
              "      <th>std</th>\n",
              "      <td>978.753033</td>\n",
              "      <td>8.592878</td>\n",
              "      <td>1.019081</td>\n",
              "      <td>11.879078</td>\n",
              "      <td>0.170299</td>\n",
              "      <td>0.080309</td>\n",
              "      <td>0.464719</td>\n",
              "      <td>0.158153</td>\n",
              "      <td>45.247430</td>\n",
              "      <td>22.29203</td>\n",
              "      <td>12.023581</td>\n",
              "      <td>4.115449</td>\n",
              "      <td>11.971868</td>\n",
              "      <td>24.244753</td>\n",
              "      <td>0.357846</td>\n",
              "    </tr>\n",
              "    <tr>\n",
              "      <th>min</th>\n",
              "      <td>0.000000</td>\n",
              "      <td>32.000000</td>\n",
              "      <td>1.000000</td>\n",
              "      <td>0.000000</td>\n",
              "      <td>0.000000</td>\n",
              "      <td>0.000000</td>\n",
              "      <td>0.000000</td>\n",
              "      <td>0.000000</td>\n",
              "      <td>107.000000</td>\n",
              "      <td>83.50000</td>\n",
              "      <td>48.000000</td>\n",
              "      <td>15.960000</td>\n",
              "      <td>45.000000</td>\n",
              "      <td>40.000000</td>\n",
              "      <td>0.000000</td>\n",
              "    </tr>\n",
              "    <tr>\n",
              "      <th>25%</th>\n",
              "      <td>847.250000</td>\n",
              "      <td>42.000000</td>\n",
              "      <td>1.000000</td>\n",
              "      <td>0.000000</td>\n",
              "      <td>0.000000</td>\n",
              "      <td>0.000000</td>\n",
              "      <td>0.000000</td>\n",
              "      <td>0.000000</td>\n",
              "      <td>206.000000</td>\n",
              "      <td>117.00000</td>\n",
              "      <td>74.500000</td>\n",
              "      <td>23.020000</td>\n",
              "      <td>68.000000</td>\n",
              "      <td>71.000000</td>\n",
              "      <td>0.000000</td>\n",
              "    </tr>\n",
              "    <tr>\n",
              "      <th>50%</th>\n",
              "      <td>1694.500000</td>\n",
              "      <td>49.000000</td>\n",
              "      <td>2.000000</td>\n",
              "      <td>0.000000</td>\n",
              "      <td>0.000000</td>\n",
              "      <td>0.000000</td>\n",
              "      <td>0.000000</td>\n",
              "      <td>0.000000</td>\n",
              "      <td>234.000000</td>\n",
              "      <td>128.50000</td>\n",
              "      <td>82.000000</td>\n",
              "      <td>25.380000</td>\n",
              "      <td>75.000000</td>\n",
              "      <td>78.000000</td>\n",
              "      <td>0.000000</td>\n",
              "    </tr>\n",
              "    <tr>\n",
              "      <th>75%</th>\n",
              "      <td>2541.750000</td>\n",
              "      <td>56.000000</td>\n",
              "      <td>3.000000</td>\n",
              "      <td>20.000000</td>\n",
              "      <td>0.000000</td>\n",
              "      <td>0.000000</td>\n",
              "      <td>1.000000</td>\n",
              "      <td>0.000000</td>\n",
              "      <td>264.000000</td>\n",
              "      <td>144.00000</td>\n",
              "      <td>90.000000</td>\n",
              "      <td>28.040000</td>\n",
              "      <td>83.000000</td>\n",
              "      <td>87.000000</td>\n",
              "      <td>0.000000</td>\n",
              "    </tr>\n",
              "    <tr>\n",
              "      <th>max</th>\n",
              "      <td>3389.000000</td>\n",
              "      <td>70.000000</td>\n",
              "      <td>4.000000</td>\n",
              "      <td>70.000000</td>\n",
              "      <td>1.000000</td>\n",
              "      <td>1.000000</td>\n",
              "      <td>1.000000</td>\n",
              "      <td>1.000000</td>\n",
              "      <td>696.000000</td>\n",
              "      <td>295.00000</td>\n",
              "      <td>142.500000</td>\n",
              "      <td>56.800000</td>\n",
              "      <td>143.000000</td>\n",
              "      <td>394.000000</td>\n",
              "      <td>1.000000</td>\n",
              "    </tr>\n",
              "  </tbody>\n",
              "</table>\n",
              "</div>"
            ],
            "text/plain": [
              "                id          age  ...      glucose   TenYearCHD\n",
              "count  3390.000000  3390.000000  ...  3086.000000  3390.000000\n",
              "mean   1694.500000    49.542183  ...    82.086520     0.150737\n",
              "std     978.753033     8.592878  ...    24.244753     0.357846\n",
              "min       0.000000    32.000000  ...    40.000000     0.000000\n",
              "25%     847.250000    42.000000  ...    71.000000     0.000000\n",
              "50%    1694.500000    49.000000  ...    78.000000     0.000000\n",
              "75%    2541.750000    56.000000  ...    87.000000     0.000000\n",
              "max    3389.000000    70.000000  ...   394.000000     1.000000\n",
              "\n",
              "[8 rows x 15 columns]"
            ]
          },
          "metadata": {
            "tags": []
          },
          "execution_count": 5
        }
      ]
    },
    {
      "cell_type": "markdown",
      "metadata": {
        "id": "dvepoBSPeRzh"
      },
      "source": [
        "## Goal : **Given this problem statement we have to build a Predictive Model which will give early detections of heart disease**\n",
        "\n",
        "## For this problem our target variable : TenYearCHD"
      ]
    },
    {
      "cell_type": "code",
      "metadata": {
        "colab": {
          "base_uri": "https://localhost:8080/"
        },
        "id": "7zJlMHU2gUou",
        "outputId": "830d4688-ed0d-4cd1-c6c2-92e9c05d12f4"
      },
      "source": [
        "round(main_data.value_counts(\"TenYearCHD\")/main_data.shape[0],2)"
      ],
      "execution_count": null,
      "outputs": [
        {
          "output_type": "execute_result",
          "data": {
            "text/plain": [
              "TenYearCHD\n",
              "0    0.85\n",
              "1    0.15\n",
              "dtype: float64"
            ]
          },
          "metadata": {
            "tags": []
          },
          "execution_count": 6
        }
      ]
    },
    {
      "cell_type": "code",
      "metadata": {
        "colab": {
          "base_uri": "https://localhost:8080/",
          "height": 319
        },
        "id": "VNLZmGnziSyj",
        "outputId": "db2cb73c-c1c3-43c7-ab45-c80dc26958c9"
      },
      "source": [
        "labels = 'Non Risk',\"Risk\"\n",
        "my_colors = ['lightblue','red']\n",
        "my_explode = (0,0.1)\n",
        "plt.figure(figsize=(10,5))\n",
        "plt.pie(main_data['TenYearCHD'].value_counts(), labels=labels ,autopct='%1.0f%%', startangle =15, shadow =True, colors = my_colors, explode=my_explode )\n",
        "plt.title(\"Cardiovascular Risk rate\")\n",
        "plt.axis('equal')\n",
        "plt.show()\n",
        "\n"
      ],
      "execution_count": null,
      "outputs": [
        {
          "output_type": "display_data",
          "data": {
            "image/png": "[encoded data removed]",
            "text/plain": [
              "<Figure size 720x360 with 1 Axes>"
            ]
          },
          "metadata": {
            "tags": []
          }
        }
      ]
    },
    {
      "cell_type": "markdown",
      "metadata": {
        "id": "oybXaK76jLbw"
      },
      "source": [
        "## Here we see there is a huge class imbalancedment."
      ]
    },
    {
      "cell_type": "markdown",
      "metadata": {
        "id": "POm_2yLbrPZo"
      },
      "source": [
        "##**Renaming the Target variable \"TenYearCHD\" as RISK** "
      ]
    },
    {
      "cell_type": "code",
      "metadata": {
        "id": "ciFNr7CArdV3"
      },
      "source": [
        "main_data.rename(columns={\"TenYearCHD\":\"RISK\"},inplace=True)"
      ],
      "execution_count": null,
      "outputs": []
    },
    {
      "cell_type": "code",
      "metadata": {
        "colab": {
          "base_uri": "https://localhost:8080/"
        },
        "id": "G_CnEDavvGAL",
        "outputId": "a3c35e4f-d554-487e-98c6-ada9bbeb3827"
      },
      "source": [
        "main_data.columns"
      ],
      "execution_count": null,
      "outputs": [
        {
          "output_type": "execute_result",
          "data": {
            "text/plain": [
              "Index(['id', 'age', 'education', 'sex', 'is_smoking', 'cigsPerDay', 'BPMeds',\n",
              "       'prevalentStroke', 'prevalentHyp', 'diabetes', 'totChol', 'sysBP',\n",
              "       'diaBP', 'BMI', 'heartRate', 'glucose', 'RISK'],\n",
              "      dtype='object')"
            ]
          },
          "metadata": {
            "tags": []
          },
          "execution_count": 9
        }
      ]
    },
    {
      "cell_type": "code",
      "metadata": {
        "colab": {
          "base_uri": "https://localhost:8080/"
        },
        "id": "4X0Y4O-_tAti",
        "outputId": "a9751d41-8ed7-4b73-e61a-1b7af36fa5c7"
      },
      "source": [
        "#Sanity check\n",
        "round(main_data.isnull().sum()/main_data.shape[0]*100,2).sort_values(ascending=False).head()"
      ],
      "execution_count": null,
      "outputs": [
        {
          "output_type": "execute_result",
          "data": {
            "text/plain": [
              "glucose       8.97\n",
              "education     2.57\n",
              "BPMeds        1.30\n",
              "totChol       1.12\n",
              "cigsPerDay    0.65\n",
              "dtype: float64"
            ]
          },
          "metadata": {
            "tags": []
          },
          "execution_count": 10
        }
      ]
    },
    {
      "cell_type": "markdown",
      "metadata": {
        "id": "AQ3eXtrMtQrh"
      },
      "source": [
        "## Except the feature name glucose all other features in the dataset have less than 5% null values."
      ]
    },
    {
      "cell_type": "code",
      "metadata": {
        "id": "T2Z_NWD8uQJs"
      },
      "source": [
        "#Dropping redundant variable \"id\"\n",
        "main_data.drop(\"id\",axis=1,inplace=True)"
      ],
      "execution_count": null,
      "outputs": []
    },
    {
      "cell_type": "code",
      "metadata": {
        "colab": {
          "base_uri": "https://localhost:8080/"
        },
        "id": "lMix1NY1ulpn",
        "outputId": "e5b053d4-a200-4594-ba2e-a7b5f29ca3ae"
      },
      "source": [
        "main_data.shape"
      ],
      "execution_count": null,
      "outputs": [
        {
          "output_type": "execute_result",
          "data": {
            "text/plain": [
              "(3390, 16)"
            ]
          },
          "metadata": {
            "tags": []
          },
          "execution_count": 12
        }
      ]
    },
    {
      "cell_type": "markdown",
      "metadata": {
        "id": "Gs4YtmoQuqCB"
      },
      "source": [
        "## Following Dataset has 3390 records and **15 Features** which are responsible for \"Cardiovascular Risk\"."
      ]
    },
    {
      "cell_type": "markdown",
      "metadata": {
        "id": "BQy47myIn0gA"
      },
      "source": [
        "#**Project Work flow**\n",
        "---\n",
        "\n",
        "1. Splitting to Train,Validation and Test sets to avoid Data bleeding.\n",
        "\n",
        "2. Simultaneously Data Cleaning of Train and Test sets\n",
        "\n",
        "3. EDA on features\n",
        "\n",
        "4. Feature cleaning if needed\n",
        "\n",
        "5. Solving Class Imbalancedment problem\n",
        "\n",
        "6. Base Model and Candidate Models\n",
        "\n",
        "7. There Hypertuning\n",
        "\n",
        "8. Bias-Variance tradeoff \n",
        "\n",
        "9. Applying Nueral network \n",
        "\n",
        "10. Creating Voting Classifier\n",
        "\n",
        "11. Final Predictions\n",
        "--- \n",
        "\n",
        "\n",
        "\n"
      ]
    },
    {
      "cell_type": "markdown",
      "metadata": {
        "id": "eBbaqaNHcdSk"
      },
      "source": [
        "##**1. To avoid bleeding of data, splitting the whole Dataset in Train , Validation and Test sets.**"
      ]
    },
    {
      "cell_type": "markdown",
      "metadata": {
        "id": "dvysmcqEqpT7"
      },
      "source": [
        "We want to (approximately) keep the proportion of Target values through the training and test sets, Hence we will pass stratify=Target. This will enable stratified splitting:"
      ]
    },
    {
      "cell_type": "code",
      "metadata": {
        "id": "QlpCic8FrGZc"
      },
      "source": [
        "X= main_data.drop('RISK',axis=1)\n",
        "Y= main_data[\"RISK\"]"
      ],
      "execution_count": null,
      "outputs": []
    },
    {
      "cell_type": "code",
      "metadata": {
        "colab": {
          "base_uri": "https://localhost:8080/"
        },
        "id": "lGhA7xZ6wE2T",
        "outputId": "51998d53-ed45-42d2-e1dc-577498f91962"
      },
      "source": [
        "len(X),len(Y)"
      ],
      "execution_count": null,
      "outputs": [
        {
          "output_type": "execute_result",
          "data": {
            "text/plain": [
              "(3390, 3390)"
            ]
          },
          "metadata": {
            "tags": []
          },
          "execution_count": 14
        }
      ]
    },
    {
      "cell_type": "code",
      "metadata": {
        "id": "ZBsqDJCWbKH8",
        "colab": {
          "base_uri": "https://localhost:8080/"
        },
        "outputId": "5caadc58-c40d-4998-9342-25d0f64b7d4b"
      },
      "source": [
        "from sklearn.model_selection import train_test_split\n",
        "train_X ,final_testX,train_Y, final_testY = train_test_split(X,Y,test_size=0.2 , stratify=Y,random_state=1) \n",
        "\n",
        "print(\"Train set\",\":\",train_X.shape[0])\n",
        "\n",
        "\n",
        "print(\"Test set\",\":\",final_testX.shape[0])"
      ],
      "execution_count": null,
      "outputs": [
        {
          "output_type": "stream",
          "text": [
            "Train set : 2712\n",
            "Test set : 678\n"
          ],
          "name": "stdout"
        }
      ]
    },
    {
      "cell_type": "markdown",
      "metadata": {
        "id": "ZbnzDMtrwm-9"
      },
      "source": [
        "### Combining the Train features and target set for ease."
      ]
    },
    {
      "cell_type": "code",
      "metadata": {
        "id": "Z3sTfzFFsguD"
      },
      "source": [
        "train_df= pd.concat([train_X,train_Y],axis=1)"
      ],
      "execution_count": null,
      "outputs": []
    },
    {
      "cell_type": "code",
      "metadata": {
        "colab": {
          "base_uri": "https://localhost:8080/",
          "height": 244
        },
        "id": "MiGcWoMZw58F",
        "outputId": "bf178dbb-fb38-4643-ea43-4275f2b34786"
      },
      "source": [
        "print(train_df.shape)\n",
        "train_df.head()"
      ],
      "execution_count": null,
      "outputs": [
        {
          "output_type": "stream",
          "text": [
            "(2712, 16)\n"
          ],
          "name": "stdout"
        },
        {
          "output_type": "execute_result",
          "data": {
            "text/html": [
              "<div>\n",
              "<style scoped>\n",
              "    .dataframe tbody tr th:only-of-type {\n",
              "        vertical-align: middle;\n",
              "    }\n",
              "\n",
              "    .dataframe tbody tr th {\n",
              "        vertical-align: top;\n",
              "    }\n",
              "\n",
              "    .dataframe thead th {\n",
              "        text-align: right;\n",
              "    }\n",
              "</style>\n",
              "<table border=\"1\" class=\"dataframe\">\n",
              "  <thead>\n",
              "    <tr style=\"text-align: right;\">\n",
              "      <th></th>\n",
              "      <th>age</th>\n",
              "      <th>education</th>\n",
              "      <th>sex</th>\n",
              "      <th>is_smoking</th>\n",
              "      <th>cigsPerDay</th>\n",
              "      <th>BPMeds</th>\n",
              "      <th>prevalentStroke</th>\n",
              "      <th>prevalentHyp</th>\n",
              "      <th>diabetes</th>\n",
              "      <th>totChol</th>\n",
              "      <th>sysBP</th>\n",
              "      <th>diaBP</th>\n",
              "      <th>BMI</th>\n",
              "      <th>heartRate</th>\n",
              "      <th>glucose</th>\n",
              "      <th>RISK</th>\n",
              "    </tr>\n",
              "  </thead>\n",
              "  <tbody>\n",
              "    <tr>\n",
              "      <th>542</th>\n",
              "      <td>49</td>\n",
              "      <td>2.0</td>\n",
              "      <td>F</td>\n",
              "      <td>YES</td>\n",
              "      <td>20.0</td>\n",
              "      <td>0.0</td>\n",
              "      <td>0</td>\n",
              "      <td>0</td>\n",
              "      <td>0</td>\n",
              "      <td>229.0</td>\n",
              "      <td>118.5</td>\n",
              "      <td>76.5</td>\n",
              "      <td>21.42</td>\n",
              "      <td>76.0</td>\n",
              "      <td>NaN</td>\n",
              "      <td>0</td>\n",
              "    </tr>\n",
              "    <tr>\n",
              "      <th>2726</th>\n",
              "      <td>51</td>\n",
              "      <td>3.0</td>\n",
              "      <td>M</td>\n",
              "      <td>NO</td>\n",
              "      <td>0.0</td>\n",
              "      <td>0.0</td>\n",
              "      <td>0</td>\n",
              "      <td>0</td>\n",
              "      <td>0</td>\n",
              "      <td>215.0</td>\n",
              "      <td>147.0</td>\n",
              "      <td>96.0</td>\n",
              "      <td>28.59</td>\n",
              "      <td>65.0</td>\n",
              "      <td>100.0</td>\n",
              "      <td>0</td>\n",
              "    </tr>\n",
              "    <tr>\n",
              "      <th>3067</th>\n",
              "      <td>57</td>\n",
              "      <td>1.0</td>\n",
              "      <td>F</td>\n",
              "      <td>YES</td>\n",
              "      <td>1.0</td>\n",
              "      <td>0.0</td>\n",
              "      <td>0</td>\n",
              "      <td>1</td>\n",
              "      <td>0</td>\n",
              "      <td>254.0</td>\n",
              "      <td>146.5</td>\n",
              "      <td>81.0</td>\n",
              "      <td>41.61</td>\n",
              "      <td>72.0</td>\n",
              "      <td>85.0</td>\n",
              "      <td>1</td>\n",
              "    </tr>\n",
              "    <tr>\n",
              "      <th>204</th>\n",
              "      <td>59</td>\n",
              "      <td>4.0</td>\n",
              "      <td>F</td>\n",
              "      <td>NO</td>\n",
              "      <td>0.0</td>\n",
              "      <td>1.0</td>\n",
              "      <td>0</td>\n",
              "      <td>1</td>\n",
              "      <td>0</td>\n",
              "      <td>282.0</td>\n",
              "      <td>135.0</td>\n",
              "      <td>87.0</td>\n",
              "      <td>28.96</td>\n",
              "      <td>72.0</td>\n",
              "      <td>NaN</td>\n",
              "      <td>0</td>\n",
              "    </tr>\n",
              "    <tr>\n",
              "      <th>329</th>\n",
              "      <td>52</td>\n",
              "      <td>1.0</td>\n",
              "      <td>F</td>\n",
              "      <td>NO</td>\n",
              "      <td>0.0</td>\n",
              "      <td>0.0</td>\n",
              "      <td>0</td>\n",
              "      <td>0</td>\n",
              "      <td>0</td>\n",
              "      <td>275.0</td>\n",
              "      <td>112.0</td>\n",
              "      <td>71.0</td>\n",
              "      <td>25.68</td>\n",
              "      <td>80.0</td>\n",
              "      <td>NaN</td>\n",
              "      <td>0</td>\n",
              "    </tr>\n",
              "  </tbody>\n",
              "</table>\n",
              "</div>"
            ],
            "text/plain": [
              "      age  education sex is_smoking  ...    BMI  heartRate  glucose  RISK\n",
              "542    49        2.0   F        YES  ...  21.42       76.0      NaN     0\n",
              "2726   51        3.0   M         NO  ...  28.59       65.0    100.0     0\n",
              "3067   57        1.0   F        YES  ...  41.61       72.0     85.0     1\n",
              "204    59        4.0   F         NO  ...  28.96       72.0      NaN     0\n",
              "329    52        1.0   F         NO  ...  25.68       80.0      NaN     0\n",
              "\n",
              "[5 rows x 16 columns]"
            ]
          },
          "metadata": {
            "tags": []
          },
          "execution_count": 17
        }
      ]
    },
    {
      "cell_type": "code",
      "metadata": {
        "colab": {
          "base_uri": "https://localhost:8080/",
          "height": 226
        },
        "id": "sVkiFkAKxKFg",
        "outputId": "aeba4002-7733-44f1-ecec-0fa3e0a2fb55"
      },
      "source": [
        "final_testX.head()"
      ],
      "execution_count": null,
      "outputs": [
        {
          "output_type": "execute_result",
          "data": {
            "text/html": [
              "<div>\n",
              "<style scoped>\n",
              "    .dataframe tbody tr th:only-of-type {\n",
              "        vertical-align: middle;\n",
              "    }\n",
              "\n",
              "    .dataframe tbody tr th {\n",
              "        vertical-align: top;\n",
              "    }\n",
              "\n",
              "    .dataframe thead th {\n",
              "        text-align: right;\n",
              "    }\n",
              "</style>\n",
              "<table border=\"1\" class=\"dataframe\">\n",
              "  <thead>\n",
              "    <tr style=\"text-align: right;\">\n",
              "      <th></th>\n",
              "      <th>age</th>\n",
              "      <th>education</th>\n",
              "      <th>sex</th>\n",
              "      <th>is_smoking</th>\n",
              "      <th>cigsPerDay</th>\n",
              "      <th>BPMeds</th>\n",
              "      <th>prevalentStroke</th>\n",
              "      <th>prevalentHyp</th>\n",
              "      <th>diabetes</th>\n",
              "      <th>totChol</th>\n",
              "      <th>sysBP</th>\n",
              "      <th>diaBP</th>\n",
              "      <th>BMI</th>\n",
              "      <th>heartRate</th>\n",
              "      <th>glucose</th>\n",
              "    </tr>\n",
              "  </thead>\n",
              "  <tbody>\n",
              "    <tr>\n",
              "      <th>1532</th>\n",
              "      <td>42</td>\n",
              "      <td>2.0</td>\n",
              "      <td>M</td>\n",
              "      <td>YES</td>\n",
              "      <td>30.0</td>\n",
              "      <td>0.0</td>\n",
              "      <td>0</td>\n",
              "      <td>0</td>\n",
              "      <td>0</td>\n",
              "      <td>256.0</td>\n",
              "      <td>111.0</td>\n",
              "      <td>62.0</td>\n",
              "      <td>21.67</td>\n",
              "      <td>74.0</td>\n",
              "      <td>74.0</td>\n",
              "    </tr>\n",
              "    <tr>\n",
              "      <th>818</th>\n",
              "      <td>60</td>\n",
              "      <td>1.0</td>\n",
              "      <td>M</td>\n",
              "      <td>YES</td>\n",
              "      <td>9.0</td>\n",
              "      <td>0.0</td>\n",
              "      <td>0</td>\n",
              "      <td>0</td>\n",
              "      <td>0</td>\n",
              "      <td>166.0</td>\n",
              "      <td>141.0</td>\n",
              "      <td>81.0</td>\n",
              "      <td>19.42</td>\n",
              "      <td>67.0</td>\n",
              "      <td>101.0</td>\n",
              "    </tr>\n",
              "    <tr>\n",
              "      <th>2830</th>\n",
              "      <td>55</td>\n",
              "      <td>2.0</td>\n",
              "      <td>M</td>\n",
              "      <td>NO</td>\n",
              "      <td>0.0</td>\n",
              "      <td>0.0</td>\n",
              "      <td>0</td>\n",
              "      <td>0</td>\n",
              "      <td>0</td>\n",
              "      <td>309.0</td>\n",
              "      <td>126.0</td>\n",
              "      <td>88.0</td>\n",
              "      <td>26.77</td>\n",
              "      <td>68.0</td>\n",
              "      <td>NaN</td>\n",
              "    </tr>\n",
              "    <tr>\n",
              "      <th>1202</th>\n",
              "      <td>45</td>\n",
              "      <td>4.0</td>\n",
              "      <td>M</td>\n",
              "      <td>YES</td>\n",
              "      <td>5.0</td>\n",
              "      <td>0.0</td>\n",
              "      <td>0</td>\n",
              "      <td>1</td>\n",
              "      <td>0</td>\n",
              "      <td>227.0</td>\n",
              "      <td>166.0</td>\n",
              "      <td>102.0</td>\n",
              "      <td>29.32</td>\n",
              "      <td>58.0</td>\n",
              "      <td>85.0</td>\n",
              "    </tr>\n",
              "    <tr>\n",
              "      <th>1053</th>\n",
              "      <td>58</td>\n",
              "      <td>3.0</td>\n",
              "      <td>F</td>\n",
              "      <td>NO</td>\n",
              "      <td>0.0</td>\n",
              "      <td>0.0</td>\n",
              "      <td>0</td>\n",
              "      <td>1</td>\n",
              "      <td>0</td>\n",
              "      <td>287.0</td>\n",
              "      <td>144.0</td>\n",
              "      <td>84.0</td>\n",
              "      <td>21.81</td>\n",
              "      <td>69.0</td>\n",
              "      <td>68.0</td>\n",
              "    </tr>\n",
              "  </tbody>\n",
              "</table>\n",
              "</div>"
            ],
            "text/plain": [
              "      age  education sex is_smoking  ...  diaBP    BMI  heartRate  glucose\n",
              "1532   42        2.0   M        YES  ...   62.0  21.67       74.0     74.0\n",
              "818    60        1.0   M        YES  ...   81.0  19.42       67.0    101.0\n",
              "2830   55        2.0   M         NO  ...   88.0  26.77       68.0      NaN\n",
              "1202   45        4.0   M        YES  ...  102.0  29.32       58.0     85.0\n",
              "1053   58        3.0   F         NO  ...   84.0  21.81       69.0     68.0\n",
              "\n",
              "[5 rows x 15 columns]"
            ]
          },
          "metadata": {
            "tags": []
          },
          "execution_count": 18
        }
      ]
    },
    {
      "cell_type": "code",
      "metadata": {
        "colab": {
          "base_uri": "https://localhost:8080/"
        },
        "id": "f81iIweIEsRW",
        "outputId": "45bd3b22-edd9-4f66-a5a2-e7160486d034"
      },
      "source": [
        "print(train_df.value_counts(\"RISK\")/train_df.shape[0])\n",
        "\n",
        "print(final_testY.value_counts()/final_testY.shape[0])"
      ],
      "execution_count": null,
      "outputs": [
        {
          "output_type": "stream",
          "text": [
            "RISK\n",
            "0    0.849189\n",
            "1    0.150811\n",
            "dtype: float64\n",
            "0    0.849558\n",
            "1    0.150442\n",
            "Name: RISK, dtype: float64\n"
          ],
          "name": "stdout"
        }
      ]
    },
    {
      "cell_type": "markdown",
      "metadata": {
        "id": "mcKht8aHFR4A"
      },
      "source": [
        "Looks our data perfectly stratify"
      ]
    },
    {
      "cell_type": "markdown",
      "metadata": {
        "id": "uob7ECN9xlwL"
      },
      "source": [
        "##**2.Simultaneous Data Cleaning and Null value imputation in both train and test**\n",
        "---\n",
        "* Identify the categorical and numerical columns to check the data distribution\n",
        "##### Data Preprocessing class with the following functions using **KNNImputer** for continous and **SimpleImputer** for Categories :\n",
        "<ul>\n",
        "    <li><b>missing_value_continuous</b>: function to handle missing values of continuous variables</li>\n",
        "    <li><b>missing_value_categorical</b>: function to handle missing values of categorical variables</li>\n",
        "    <li><b>outlier_treatment</b>: function to handle continuous outliers in the dataset</li>\n",
        "</ul>"
      ]
    },
    {
      "cell_type": "markdown",
      "metadata": {
        "id": "-8z10lHLJppW"
      },
      "source": [
        "![image.png](data:image/png;base64,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)"
      ]
    },
    {
      "cell_type": "code",
      "metadata": {
        "colab": {
          "base_uri": "https://localhost:8080/"
        },
        "id": "SsX_qXzeW6b5",
        "outputId": "5dd86897-32bd-45a0-f84d-9dd0b7fa23b3"
      },
      "source": [
        "train_df.info()"
      ],
      "execution_count": null,
      "outputs": [
        {
          "output_type": "stream",
          "text": [
            "<class 'pandas.core.frame.DataFrame'>\n",
            "Int64Index: 2712 entries, 542 to 682\n",
            "Data columns (total 16 columns):\n",
            " #   Column           Non-Null Count  Dtype  \n",
            "---  ------           --------------  -----  \n",
            " 0   age              2712 non-null   int64  \n",
            " 1   education        2643 non-null   float64\n",
            " 2   sex              2712 non-null   object \n",
            " 3   is_smoking       2712 non-null   object \n",
            " 4   cigsPerDay       2695 non-null   float64\n",
            " 5   BPMeds           2679 non-null   float64\n",
            " 6   prevalentStroke  2712 non-null   int64  \n",
            " 7   prevalentHyp     2712 non-null   int64  \n",
            " 8   diabetes         2712 non-null   int64  \n",
            " 9   totChol          2681 non-null   float64\n",
            " 10  sysBP            2712 non-null   float64\n",
            " 11  diaBP            2712 non-null   float64\n",
            " 12  BMI              2701 non-null   float64\n",
            " 13  heartRate        2711 non-null   float64\n",
            " 14  glucose          2473 non-null   float64\n",
            " 15  RISK             2712 non-null   int64  \n",
            "dtypes: float64(9), int64(5), object(2)\n",
            "memory usage: 360.2+ KB\n"
          ],
          "name": "stdout"
        }
      ]
    },
    {
      "cell_type": "code",
      "metadata": {
        "id": "ApkeDua2V9_Q"
      },
      "source": [
        "column_datatypes= train_df.drop(\"RISK\",axis=1).dtypes\n",
        "categorical_columns=list(column_datatypes[column_datatypes==\"object\"].index.values)\n",
        "continous_columns=list(column_datatypes[(column_datatypes==\"int64\") | (column_datatypes==\"float64\") ].index.values)"
      ],
      "execution_count": null,
      "outputs": []
    },
    {
      "cell_type": "code",
      "metadata": {
        "id": "341iU3K5xXBV"
      },
      "source": [
        "class Data_preprocessing:\n",
        "  def __init__(self,train_data):\n",
        "        self.train_data = train_data\n",
        "\n",
        "  def missing_value_continous(self,columns_with_specific_type,neighbors=3):\n",
        "    knn_imputer= KNNImputer(n_neighbors=neighbors)\n",
        "    knn_imputer.fit(self.train_data[columns_with_specific_type])\n",
        "    self.train_data[columns_with_specific_type]= knn_imputer.transform(self.train_data[columns_with_specific_type])\n",
        "    return self.train_data\n",
        "\n",
        "  def missing_value_categorical(self,columns_with_specific_type,imputation_type=\"most_frequent\"):\n",
        "   most_frequent= SimpleImputer(strategy=\"most_frequent\")\n",
        "   most_frequent.fit(self.train_data[columns_with_specific_type])\n",
        "   self.train_data[columns_with_specific_type]= most_frequent.transform(self.train_data[columns_with_specific_type])\n",
        "   return self.train_data\n",
        "\n",
        "  def outlier_treatment(self,Q1,Q3,IQR,columns_with_outlier,action):\n",
        "     ''' \n",
        "     Finding Outliers and Imputing them by mean/median to avoid loss of data\n",
        "     '''\n",
        "     if action==\"median\":\n",
        "       for i in range(len(columns_with_outlier)):\n",
        "         column_name= columns_with_outlier[i]\n",
        "         meadian_outlier=np.median(self.train_data[column_name])\n",
        "         self.train_data.loc[self.train_data[((self.train_data[column_name]<(Q1[column_name]- (1.5*IQR[column_name])))| (self.train_data[column_name]>(Q3[column_name]+(1.5*IQR[column_name]))) )].index,column_name]=meadian_outlier\n",
        "\n",
        "  \n",
        "     if action== \"mean\":\n",
        "       for i in range(len(columns_with_outlier)):\n",
        "         column_name= columns_with_outlier[i]\n",
        "         mean_outlier=np.mean(self.train_data[column_name])\n",
        "         self.train_data.loc[self.train_data[((self.train_data[column_name]<(Q1[column_name]- (1.5*IQR[column_name])))| (self.train_data[column_name]>(Q3[column_name]+(1.5*IQR[column_name]))) )].index,column_name]=mean_outlier\n",
        "     return self.train_data\n"
      ],
      "execution_count": null,
      "outputs": []
    },
    {
      "cell_type": "code",
      "metadata": {
        "id": "GYWOheNcT-hP"
      },
      "source": [
        "dlist= [train_df,final_testX]\n",
        "for df in dlist:\n",
        "  #create class object\n",
        "  dat= Data_preprocessing(df)\n",
        "  df= dat.missing_value_continous(continous_columns)\n",
        "  df= dat.missing_value_categorical(categorical_columns)"
      ],
      "execution_count": null,
      "outputs": []
    },
    {
      "cell_type": "code",
      "metadata": {
        "colab": {
          "base_uri": "https://localhost:8080/"
        },
        "id": "Lh4p4S8_YYtz",
        "outputId": "6538a47a-36e2-4af9-debc-a8f7b6e258ab"
      },
      "source": [
        "print(train_df.isnull().sum())\n",
        "print('-'*100)\n",
        "print(final_testX.isnull().sum())"
      ],
      "execution_count": null,
      "outputs": [
        {
          "output_type": "stream",
          "text": [
            "age                0\n",
            "education          0\n",
            "sex                0\n",
            "is_smoking         0\n",
            "cigsPerDay         0\n",
            "BPMeds             0\n",
            "prevalentStroke    0\n",
            "prevalentHyp       0\n",
            "diabetes           0\n",
            "totChol            0\n",
            "sysBP              0\n",
            "diaBP              0\n",
            "BMI                0\n",
            "heartRate          0\n",
            "glucose            0\n",
            "RISK               0\n",
            "dtype: int64\n",
            "----------------------------------------------------------------------------------------------------\n",
            "age                0\n",
            "education          0\n",
            "sex                0\n",
            "is_smoking         0\n",
            "cigsPerDay         0\n",
            "BPMeds             0\n",
            "prevalentStroke    0\n",
            "prevalentHyp       0\n",
            "diabetes           0\n",
            "totChol            0\n",
            "sysBP              0\n",
            "diaBP              0\n",
            "BMI                0\n",
            "heartRate          0\n",
            "glucose            0\n",
            "dtype: int64\n"
          ],
          "name": "stdout"
        }
      ]
    },
    {
      "cell_type": "markdown",
      "metadata": {
        "id": "zj2ee3H0Y3Xp"
      },
      "source": [
        "## **Handling Outliers**"
      ]
    },
    {
      "cell_type": "markdown",
      "metadata": {
        "id": "SCAwYO7NaE92"
      },
      "source": [
        "## Outliers in train set"
      ]
    },
    {
      "cell_type": "code",
      "metadata": {
        "colab": {
          "base_uri": "https://localhost:8080/",
          "height": 443
        },
        "id": "C6Rpwem0Yd33",
        "outputId": "ab514b29-2b19-41e2-ae01-2bd84bd22f81"
      },
      "source": [
        "plt.figure(figsize=(10,6))\n",
        "plt.xticks(rotation=90)\n",
        "ax= sns.boxplot(data=train_df[continous_columns],orient='v',palette='Set2')"
      ],
      "execution_count": null,
      "outputs": [
        {
          "output_type": "display_data",
          "data": {
            "image/png": "[encoded data removed]",
            "text/plain": [
              "<Figure size 720x432 with 1 Axes>"
            ]
          },
          "metadata": {
            "tags": [],
            "needs_background": "light"
          }
        }
      ]
    },
    {
      "cell_type": "code",
      "metadata": {
        "id": "-bHPusG-bWVY"
      },
      "source": [
        "train_outliers= [\"cigsPerDay\",\"totChol\",\"sysBP\",\"diaBP\",\"BMI\",\"heartRate\",\"glucose\"]"
      ],
      "execution_count": null,
      "outputs": []
    },
    {
      "cell_type": "markdown",
      "metadata": {
        "id": "bZDUhocbaIym"
      },
      "source": [
        "## Outliers in test set"
      ]
    },
    {
      "cell_type": "code",
      "metadata": {
        "colab": {
          "base_uri": "https://localhost:8080/",
          "height": 443
        },
        "id": "vz-rToYtZrPv",
        "outputId": "728e154d-3560-4848-c4ae-60d22a0533e5"
      },
      "source": [
        "plt.figure(figsize=(10,6))\n",
        "plt.xticks(rotation=90)\n",
        "ax= sns.boxplot(data=final_testX[continous_columns],orient='v',palette='Set2')"
      ],
      "execution_count": null,
      "outputs": [
        {
          "output_type": "display_data",
          "data": {
            "image/png": "[encoded data removed]",
            "text/plain": [
              "<Figure size 720x432 with 1 Axes>"
            ]
          },
          "metadata": {
            "tags": [],
            "needs_background": "light"
          }
        }
      ]
    },
    {
      "cell_type": "code",
      "metadata": {
        "id": "MTdOXtyBaOPl"
      },
      "source": [
        "test_outliers=train_outliers"
      ],
      "execution_count": null,
      "outputs": []
    },
    {
      "cell_type": "markdown",
      "metadata": {
        "id": "IH-UqZIJhLEx"
      },
      "source": [
        "### both have same outlier columns"
      ]
    },
    {
      "cell_type": "code",
      "metadata": {
        "id": "jvHYBulnco1_"
      },
      "source": [
        "#compute outlier treatment\n",
        "ldf=[train_df,final_testX]\n",
        "for df in ldf:\n",
        "  dat= Data_preprocessing(df)\n",
        "  Q1= df[continous_columns].quantile(0.25)\n",
        "  Q3= df[continous_columns].quantile(0.75)\n",
        "  IQR= (Q3-Q1)\n",
        "  df= dat.outlier_treatment(Q1,Q3,IQR,train_outliers,\"median\")\n"
      ],
      "execution_count": null,
      "outputs": []
    },
    {
      "cell_type": "markdown",
      "metadata": {
        "id": "IiLyTiF_0oGz"
      },
      "source": [
        "##Treatment Done!"
      ]
    },
    {
      "cell_type": "code",
      "metadata": {
        "colab": {
          "base_uri": "https://localhost:8080/",
          "height": 443
        },
        "id": "VYF27D0ihTC5",
        "outputId": "06237426-864a-4c86-b3b4-c2f442f88633"
      },
      "source": [
        "plt.figure(figsize=(10,6))\n",
        "plt.xticks(rotation=90)\n",
        "ax= sns.boxplot(data=train_df[continous_columns],orient='v',palette='Set2')"
      ],
      "execution_count": null,
      "outputs": [
        {
          "output_type": "display_data",
          "data": {
            "image/png": "[encoded data removed]",
            "text/plain": [
              "<Figure size 720x432 with 1 Axes>"
            ]
          },
          "metadata": {
            "tags": [],
            "needs_background": "light"
          }
        }
      ]
    },
    {
      "cell_type": "markdown",
      "metadata": {
        "id": "W9jSrKl9hoFx"
      },
      "source": [
        "## **3. EDA on features to find some pattern using training data set**\n",
        "---"
      ]
    },
    {
      "cell_type": "markdown",
      "metadata": {
        "id": "Ay1wCaknicct"
      },
      "source": [
        "###**AGE and Sex**"
      ]
    },
    {
      "cell_type": "code",
      "metadata": {
        "colab": {
          "base_uri": "https://localhost:8080/"
        },
        "id": "_l6ExaBdlOBa",
        "outputId": "705a2eb2-8cf9-4050-a478-f44265104a95"
      },
      "source": [
        "train_df['sex'].unique()"
      ],
      "execution_count": null,
      "outputs": [
        {
          "output_type": "execute_result",
          "data": {
            "text/plain": [
              "array(['F', 'M'], dtype=object)"
            ]
          },
          "metadata": {
            "tags": []
          },
          "execution_count": 31
        }
      ]
    },
    {
      "cell_type": "code",
      "metadata": {
        "colab": {
          "base_uri": "https://localhost:8080/",
          "height": 471
        },
        "id": "FCsPpd-kheep",
        "outputId": "19df7e6a-45fe-43fd-a095-a0435fc2b35d"
      },
      "source": [
        "at_risk = \"At risk\"\n",
        "no_risk= \"No risk\"\n",
        "fig , axes= plt.subplots(nrows=1,ncols=3,figsize=(20,8))\n",
        "ax= sns.distplot(train_df[train_df['RISK']==1].age,bins=18,label=at_risk,ax=axes[0],color='r',kde=False)\n",
        "ax= sns.distplot(train_df[train_df['RISK']==0].age,bins=40,label=no_risk,ax=axes[0],color='g' ,kde=False)\n",
        "ax.legend()\n",
        "ax.set_title(\"Given Population\")\n",
        "women= train_df[train_df['sex']==\"F\"]\n",
        "men= train_df[train_df['sex']==\"M\"]\n",
        "ax= sns.distplot(women[women['RISK']==1].age,bins=18,label=at_risk,ax=axes[1],color='r',kde=False)\n",
        "ax= sns.distplot(women[women['RISK']==0].age,bins=40,label=no_risk,ax=axes[1],color='g',kde=False)\n",
        "ax.legend()\n",
        "ax.set_title(\"Female\")\n",
        "ax= sns.distplot(men[men['RISK']==1].age,bins=18,label=at_risk,ax=axes[2],color='r',kde=False)\n",
        "ax= sns.distplot(men[men['RISK']==0].age,bins=40,label=no_risk,ax=axes[2],color='g',kde=False)\n",
        "ax.legend()\n",
        "ax.set_title(\"Male\")\n",
        "\n"
      ],
      "execution_count": null,
      "outputs": [
        {
          "output_type": "execute_result",
          "data": {
            "text/plain": [
              "Text(0.5, 1.0, 'Male')"
            ]
          },
          "metadata": {
            "tags": []
          },
          "execution_count": 32
        },
        {
          "output_type": "display_data",
          "data": {
            "image/png": "[encoded data removed]",
            "text/plain": [
              "<Figure size 1440x576 with 3 Axes>"
            ]
          },
          "metadata": {
            "tags": [],
            "needs_background": "light"
          }
        }
      ]
    },
    {
      "cell_type": "markdown",
      "metadata": {
        "id": "K8F-iB5zoGMr"
      },
      "source": [
        "##**INSIGHTS :**\n",
        "From the above graphs we can say that:\n",
        "1. Both Women and Men lying in Age group of 50-52 have high risk of heart disease.\n",
        "2. Men lying in age group 40-42 are at risk.\n",
        "3. Men having age more than 65 are also at risk."
      ]
    },
    {
      "cell_type": "markdown",
      "metadata": {
        "id": "sm8BIOKeurdS"
      },
      "source": [
        "## **Age and Smoking**"
      ]
    },
    {
      "cell_type": "code",
      "metadata": {
        "colab": {
          "base_uri": "https://localhost:8080/",
          "height": 473
        },
        "id": "f5NgKux2n8Py",
        "outputId": "f654ce68-743a-4c8d-e85c-eda652ee46a7"
      },
      "source": [
        "at_risk = \"At risk\"\n",
        "no_risk= \"No risk\"\n",
        "smoking= train_df[train_df['is_smoking']==\"YES\"]\n",
        "non_smoking= train_df[train_df['is_smoking']==\"NO\"]\n",
        "fig , axes= plt.subplots(nrows=1,ncols=2,figsize=(20,8))\n",
        "ax= sns.distplot(smoking[train_df['RISK']==1].age,bins=18,label=at_risk,ax=axes[0],color='r',kde=False)\n",
        "ax= sns.distplot(smoking[train_df['RISK']==0].age,bins=40,label=no_risk,ax=axes[0],color='g',kde=False)\n",
        "ax.legend()\n",
        "ax.set_title(\"Smokers\")\n",
        "\n",
        "ax= sns.distplot(non_smoking[train_df['RISK']==1].age,bins=18,label=at_risk,ax=axes[1],color='r',kde=False)\n",
        "ax= sns.distplot(non_smoking[train_df['RISK']==0].age,bins=40,label=no_risk,ax=axes[1],color='g',kde=False)\n",
        "ax.legend()\n",
        "ax.set_title(\"NonSmokers\")\n",
        "\n",
        "\n",
        "\n"
      ],
      "execution_count": null,
      "outputs": [
        {
          "output_type": "execute_result",
          "data": {
            "text/plain": [
              "Text(0.5, 1.0, 'NonSmokers')"
            ]
          },
          "metadata": {
            "tags": []
          },
          "execution_count": 33
        },
        {
          "output_type": "display_data",
          "data": {
            "image/png": "[encoded data removed]",
            "text/plain": [
              "<Figure size 1440x576 with 2 Axes>"
            ]
          },
          "metadata": {
            "tags": [],
            "needs_background": "light"
          }
        }
      ]
    },
    {
      "cell_type": "markdown",
      "metadata": {
        "id": "-AT-u22-LwVY"
      },
      "source": [
        "##**INSIGHTS:**\n",
        "Again we see Risk is High in same age group despite they are Smokers or not."
      ]
    },
    {
      "cell_type": "code",
      "metadata": {
        "colab": {
          "base_uri": "https://localhost:8080/"
        },
        "id": "ILzZX3gRuR3_",
        "outputId": "b41fe6da-ab4f-4486-e3ec-497ede18feb1"
      },
      "source": [
        "train_df['is_smoking'].unique()"
      ],
      "execution_count": null,
      "outputs": [
        {
          "output_type": "execute_result",
          "data": {
            "text/plain": [
              "array(['YES', 'NO'], dtype=object)"
            ]
          },
          "metadata": {
            "tags": []
          },
          "execution_count": 34
        }
      ]
    },
    {
      "cell_type": "markdown",
      "metadata": {
        "id": "0CtfhWEnMzfd"
      },
      "source": [
        "##**Cigs(Cigerettes smoke by a Person per day) ,Sex,RISK**"
      ]
    },
    {
      "cell_type": "code",
      "metadata": {
        "colab": {
          "base_uri": "https://localhost:8080/"
        },
        "id": "sTD5Wsm1PVTw",
        "outputId": "822bcf2f-5940-44d2-e2c3-ae996a7d4798"
      },
      "source": [
        "train_df.columns"
      ],
      "execution_count": null,
      "outputs": [
        {
          "output_type": "execute_result",
          "data": {
            "text/plain": [
              "Index(['age', 'education', 'sex', 'is_smoking', 'cigsPerDay', 'BPMeds',\n",
              "       'prevalentStroke', 'prevalentHyp', 'diabetes', 'totChol', 'sysBP',\n",
              "       'diaBP', 'BMI', 'heartRate', 'glucose', 'RISK'],\n",
              "      dtype='object')"
            ]
          },
          "metadata": {
            "tags": []
          },
          "execution_count": 35
        }
      ]
    },
    {
      "cell_type": "code",
      "metadata": {
        "id": "CMn8OVklQMjc"
      },
      "source": [
        "train_df['cigsPerDay']=train_df['cigsPerDay'].astype(int)"
      ],
      "execution_count": null,
      "outputs": []
    },
    {
      "cell_type": "code",
      "metadata": {
        "id": "fGKLB5VcT8-e"
      },
      "source": [
        "final_testX['cigsPerDay']=final_testX['cigsPerDay'].astype(int)"
      ],
      "execution_count": null,
      "outputs": []
    },
    {
      "cell_type": "code",
      "metadata": {
        "colab": {
          "base_uri": "https://localhost:8080/",
          "height": 344
        },
        "id": "-x7AxlqFNZrR",
        "outputId": "9e551f0b-c6f8-4914-86b6-4ff332c145f4"
      },
      "source": [
        "g=sns.factorplot('cigsPerDay','RISK',kind='bar',\n",
        "                    data=train_df,hue='sex',aspect=3)\n",
        "g=g.set_ylabels(\"RISK Probability\")"
      ],
      "execution_count": null,
      "outputs": [
        {
          "output_type": "display_data",
          "data": {
            "image/png": "[encoded data removed]",
            "text/plain": [
              "<Figure size 1124.62x360 with 1 Axes>"
            ]
          },
          "metadata": {
            "tags": [],
            "needs_background": "light"
          }
        }
      ]
    },
    {
      "cell_type": "markdown",
      "metadata": {
        "id": "BLA25ybFQ-L-"
      },
      "source": [
        "## **INSIGHTS:**\n",
        "1. Both Male,Female who are non smoker or smoke less than 4 cigs per day have very low risk of Heart disease\n",
        "\n",
        "2. All those men who smoke 7 cigs definitely got a heart disease."
      ]
    },
    {
      "cell_type": "markdown",
      "metadata": {
        "id": "OLsKkBlAULbr"
      },
      "source": [
        "### Converting following columns : **'BPMeds' ,'prevalentStroke', 'prevalentHyp', 'diabetes'** into categorical column"
      ]
    },
    {
      "cell_type": "code",
      "metadata": {
        "id": "jaMTOKetT0yI"
      },
      "source": [
        "ldf= [train_df,final_testX]\n",
        "tocat=['BPMeds','prevalentStroke', 'prevalentHyp', 'diabetes']\n",
        "for df in ldf:\n",
        "  for col in tocat:\n",
        "    df[col]=df[col].astype('category')"
      ],
      "execution_count": null,
      "outputs": []
    },
    {
      "cell_type": "markdown",
      "metadata": {
        "id": "taRoIkDGSzKI"
      },
      "source": [
        "## **Diabetes** "
      ]
    },
    {
      "cell_type": "code",
      "metadata": {
        "colab": {
          "base_uri": "https://localhost:8080/",
          "height": 585
        },
        "id": "mMyJlOsBS3-Q",
        "outputId": "41cac88a-201c-471a-fa18-a9dc110762aa"
      },
      "source": [
        "grid= sns.FacetGrid(train_df,col='RISK',row='diabetes',size=4,aspect=1.2,palette='viridis')\n",
        "grid.map(plt.hist,'age',alpha=.8,bins=20)\n",
        "grid.add_legend();"
      ],
      "execution_count": null,
      "outputs": [
        {
          "output_type": "display_data",
          "data": {
            "image/png": "[encoded data removed]",
            "text/plain": [
              "<Figure size 699.2x576 with 4 Axes>"
            ]
          },
          "metadata": {
            "tags": [],
            "needs_background": "light"
          }
        }
      ]
    },
    {
      "cell_type": "markdown",
      "metadata": {
        "id": "jlI7dypIWoQx"
      },
      "source": [
        "##**INSIGHTS:**\n",
        "In general People who don't have diabetes also don't have Heart disease."
      ]
    },
    {
      "cell_type": "markdown",
      "metadata": {
        "id": "iRRqlKn6SLIo"
      },
      "source": [
        "##**Numerical Variables VS Risk**"
      ]
    },
    {
      "cell_type": "code",
      "metadata": {
        "colab": {
          "base_uri": "https://localhost:8080/"
        },
        "id": "4yPzy7BJSUxw",
        "outputId": "fece0249-f0ed-4e5c-cf9f-acb6cf205432"
      },
      "source": [
        "numerical_col=continous_columns[7:]\n",
        "print(numerical_col)"
      ],
      "execution_count": null,
      "outputs": [
        {
          "output_type": "stream",
          "text": [
            "['totChol', 'sysBP', 'diaBP', 'BMI', 'heartRate', 'glucose']\n"
          ],
          "name": "stdout"
        }
      ]
    },
    {
      "cell_type": "code",
      "metadata": {
        "colab": {
          "base_uri": "https://localhost:8080/",
          "height": 309
        },
        "id": "T2K2PZ5vXZiz",
        "outputId": "c8dedafb-3222-4c7f-ce26-4e7f414ba08f"
      },
      "source": [
        "#correlation matrix between numerical variables and RISK of getting heart disease\n",
        "numerical_col.append('RISK')\n",
        "g= sns.heatmap(train_df[numerical_col].corr(),annot=True,fmt='.2f',cmap='coolwarm')\n"
      ],
      "execution_count": null,
      "outputs": [
        {
          "output_type": "display_data",
          "data": {
            "image/png": "[encoded data removed]",
            "text/plain": [
              "<Figure size 432x288 with 2 Axes>"
            ]
          },
          "metadata": {
            "tags": [],
            "needs_background": "light"
          }
        }
      ]
    },
    {
      "cell_type": "markdown",
      "metadata": {
        "id": "LyI3_V6bZA3X"
      },
      "source": [
        "\"diaBP\" and \"sysBP\" are highly correlated\n",
        "1. diaBP is Diastolic Pressure\n",
        "2. sysBP is Systolic Pressure\n",
        "\n",
        "We generally while measuring our BP look for there Ratio \n",
        "e.g a healthy person has 120/80 \n",
        "\n",
        "##Deriving new feature **AvgBP** = **sysBP+diaBP/2** and dropping diaBP\n"
      ]
    },
    {
      "cell_type": "code",
      "metadata": {
        "id": "N-ldB1QCYLo3"
      },
      "source": [
        "X_df=train_df.copy()\n",
        "Xt_df=final_testX.copy()"
      ],
      "execution_count": null,
      "outputs": []
    },
    {
      "cell_type": "code",
      "metadata": {
        "id": "AtaPezTaaoik"
      },
      "source": [
        "ldf=[train_df,final_testX]\n",
        "for df in ldf:\n",
        "  df['bp_ratio']= round(df[\"sysBP\"]/df[\"diaBP\"],2)\n",
        "  df[\"avgBP\"]= round((df[\"sysBP\"]+df[\"diaBP\"])/2,2)\n",
        "  df.drop(\"diaBP\",axis=1,inplace=True)\n",
        "  df.drop(\"sysBP\",axis=1,inplace=True)\n",
        "  "
      ],
      "execution_count": null,
      "outputs": []
    },
    {
      "cell_type": "code",
      "metadata": {
        "id": "zRenhwrkbk2x"
      },
      "source": [
        "numerical_col=['RISK','totChol', 'bp_ratio','avgBP', 'BMI', 'heartRate', 'glucose']"
      ],
      "execution_count": null,
      "outputs": []
    },
    {
      "cell_type": "code",
      "metadata": {
        "colab": {
          "base_uri": "https://localhost:8080/",
          "height": 309
        },
        "id": "UWtRlmOFbfc1",
        "outputId": "f45643bf-1c43-402b-f28a-f09b57c6363b"
      },
      "source": [
        "#correlation matrix between numerical variables and RISK of getting heart disease\n",
        "g= sns.heatmap(train_df[numerical_col].corr(),annot=True,fmt='.2f',cmap='coolwarm')\n"
      ],
      "execution_count": null,
      "outputs": [
        {
          "output_type": "display_data",
          "data": {
            "image/png": "[encoded data removed]",
            "text/plain": [
              "<Figure size 432x288 with 2 Axes>"
            ]
          },
          "metadata": {
            "tags": [],
            "needs_background": "light"
          }
        }
      ]
    },
    {
      "cell_type": "markdown",
      "metadata": {
        "id": "PJ76iWWMcO1_"
      },
      "source": [
        "Apparently there is no direct linear relationship between the numerical features and Risk of getting heart disease."
      ]
    },
    {
      "cell_type": "markdown",
      "metadata": {
        "id": "hQfJgiizeJhL"
      },
      "source": [
        "## Checking for **'prevalentStroke'** and **'prevalentHyp'** cases with respect to Risk of getting disease."
      ]
    },
    {
      "cell_type": "code",
      "metadata": {
        "colab": {
          "base_uri": "https://localhost:8080/",
          "height": 749
        },
        "id": "U6Dxv3r2dOWj",
        "outputId": "c10e539b-0693-4dc9-9d76-bb85532e980e"
      },
      "source": [
        "ax=sns.factorplot('prevalentStroke','RISK',kind='bar',\n",
        "                    data=train_df,size=5,aspect=0.4)\n",
        "ax=ax.set_ylabels(\"RISK Probability\")\n",
        "ax=sns.factorplot('prevalentHyp','RISK',kind='bar',\n",
        "                    data=train_df,size=5,aspect=0.4)\n",
        "ax=ax.set_ylabels(\"RISK Probability\")"
      ],
      "execution_count": null,
      "outputs": [
        {
          "output_type": "display_data",
          "data": {
            "image/png": "[encoded data removed]",
            "text/plain": [
              "<Figure size 144x360 with 1 Axes>"
            ]
          },
          "metadata": {
            "tags": [],
            "needs_background": "light"
          }
        },
        {
          "output_type": "display_data",
          "data": {
            "image/png": "[encoded data removed]",
            "text/plain": [
              "<Figure size 144x360 with 1 Axes>"
            ]
          },
          "metadata": {
            "tags": [],
            "needs_background": "light"
          }
        }
      ]
    },
    {
      "cell_type": "markdown",
      "metadata": {
        "id": "RD9_m7JahDfE"
      },
      "source": [
        "## **INSIGHTS:** \n",
        "People who had earlier got a stroke and Hypertension have  high chance of getting the heart disease."
      ]
    },
    {
      "cell_type": "markdown",
      "metadata": {
        "id": "nnKeUxxAuYrg"
      },
      "source": [
        "## lets check how this Feature **Education** is related with heart disease"
      ]
    },
    {
      "cell_type": "code",
      "metadata": {
        "id": "1d8zJUTovFj7",
        "colab": {
          "base_uri": "https://localhost:8080/",
          "height": 313
        },
        "outputId": "1628df71-bd6c-45cb-857b-31615b52c7fd"
      },
      "source": [
        "at_risk = \"At risk\"\n",
        "no_risk= \"No risk\"\n",
        "ax=sns.distplot(train_df[train_df['RISK']==1].education,bins=18,label=at_risk,color='b',kde=False)\n",
        "ax=sns.distplot(train_df[train_df['RISK']==0].education,bins=18,label=no_risk,color='g',kde=False)\n",
        "ax.legend()\n",
        "ax.set_title('Education')\n"
      ],
      "execution_count": null,
      "outputs": [
        {
          "output_type": "execute_result",
          "data": {
            "text/plain": [
              "Text(0.5, 1.0, 'Education')"
            ]
          },
          "metadata": {
            "tags": []
          },
          "execution_count": 48
        },
        {
          "output_type": "display_data",
          "data": {
            "image/png": "[encoded data removed]",
            "text/plain": [
              "<Figure size 432x288 with 1 Axes>"
            ]
          },
          "metadata": {
            "tags": [],
            "needs_background": "light"
          }
        }
      ]
    },
    {
      "cell_type": "markdown",
      "metadata": {
        "id": "X6EgWmUw1qQv"
      },
      "source": [
        "## **InSIGHTS** \n",
        "Not much we can intrepret but we can say people with lower education level are at higher risk of getting heart disease"
      ]
    },
    {
      "cell_type": "markdown",
      "metadata": {
        "id": "viQsgdUJ15VU"
      },
      "source": [
        "##**4. Feature Engineering**\n",
        "---"
      ]
    },
    {
      "cell_type": "markdown",
      "metadata": {
        "id": "-2fzQdBT1_s9"
      },
      "source": [
        "##**AGE**\n",
        "*  From the above EDA we try to establish some patterns which influence the cause of heart disease in that we found people both men and women lying in a particular age group **40-42, 50-51** are more prone to heart disease.\n",
        "\n",
        "* So what I want to try is to create age buckets of population e.g 18-25 -> **20s**, 25-40 -> **Mid30s**\n",
        "etc in this way we can target the particular age group which have high risk of Heart disease.\n"
      ]
    },
    {
      "cell_type": "code",
      "metadata": {
        "colab": {
          "base_uri": "https://localhost:8080/"
        },
        "id": "sLyBp2am1TTb",
        "outputId": "19ba5392-4d68-4d0b-d25c-ace8a4b14cb0"
      },
      "source": [
        "train_df.age.describe()"
      ],
      "execution_count": null,
      "outputs": [
        {
          "output_type": "execute_result",
          "data": {
            "text/plain": [
              "count    2712.000000\n",
              "mean       49.580015\n",
              "std         8.585428\n",
              "min        32.000000\n",
              "25%        42.000000\n",
              "50%        49.000000\n",
              "75%        56.250000\n",
              "max        70.000000\n",
              "Name: age, dtype: float64"
            ]
          },
          "metadata": {
            "tags": []
          },
          "execution_count": 49
        }
      ]
    },
    {
      "cell_type": "code",
      "metadata": {
        "id": "gUYtn6Rb47vv"
      },
      "source": [
        "ldf=[train_df,final_testX]\n",
        "for df in ldf:\n",
        "  df['Age_Bucket']=pd.cut(df.age,bins=10,labels=['Early30','Mid30','Early40','Mid40','late40',\n",
        "                                               'Early50','Mid50','late50','Mid60','late60'])"
      ],
      "execution_count": null,
      "outputs": []
    },
    {
      "cell_type": "code",
      "metadata": {
        "colab": {
          "base_uri": "https://localhost:8080/"
        },
        "id": "9fO1RUtx7qfT",
        "outputId": "1c4e7e49-61e2-4ba6-81b6-1c8dde2f04e9"
      },
      "source": [
        "ldf=[train_df,final_testX]\n",
        "for df in ldf:\n",
        "  print(df[\"Age_Bucket\"].value_counts())\n",
        "  print('-'*100)"
      ],
      "execution_count": null,
      "outputs": [
        {
          "output_type": "stream",
          "text": [
            "Early40    475\n",
            "Mid40      407\n",
            "late40     365\n",
            "Mid50      320\n",
            "Mid30      315\n",
            "late50     286\n",
            "Early50    275\n",
            "Mid60      192\n",
            "late60      45\n",
            "Early30     32\n",
            "Name: Age_Bucket, dtype: int64\n",
            "----------------------------------------------------------------------------------------------------\n",
            "Mid40      107\n",
            "late40     102\n",
            "Mid30       96\n",
            "Mid50       80\n",
            "Early40     74\n",
            "Early50     64\n",
            "Mid60       59\n",
            "late50      55\n",
            "Early30     28\n",
            "late60      13\n",
            "Name: Age_Bucket, dtype: int64\n",
            "----------------------------------------------------------------------------------------------------\n"
          ],
          "name": "stdout"
        }
      ]
    },
    {
      "cell_type": "code",
      "metadata": {
        "colab": {
          "base_uri": "https://localhost:8080/",
          "height": 312
        },
        "id": "xmS_ke7i5hYd",
        "outputId": "5e5c0f25-8a73-4746-b123-93339113c42a"
      },
      "source": [
        "ax=sns.factorplot('Age_Bucket','RISK',kind='bar',\n",
        "                    data=train_df,size=4,aspect=1.5)\n",
        "ax=ax.set_ylabels(\"RISK Probability\")"
      ],
      "execution_count": null,
      "outputs": [
        {
          "output_type": "display_data",
          "data": {
            "image/png": "[encoded data removed]",
            "text/plain": [
              "<Figure size 432x288 with 1 Axes>"
            ]
          },
          "metadata": {
            "tags": [],
            "needs_background": "light"
          }
        }
      ]
    },
    {
      "cell_type": "code",
      "metadata": {
        "colab": {
          "base_uri": "https://localhost:8080/",
          "height": 312
        },
        "id": "0F5UjJGE8QO0",
        "outputId": "6358cac8-a342-47a3-9e1d-204f009ade82"
      },
      "source": [
        "ax=sns.factorplot('Age_Bucket',final_testY,kind='bar',\n",
        "                    data=final_testX,size=4,aspect=1.5)\n",
        "ax=ax.set_ylabels(\"RISK Probability\")"
      ],
      "execution_count": null,
      "outputs": [
        {
          "output_type": "display_data",
          "data": {
            "image/png": "[encoded data removed]",
            "text/plain": [
              "<Figure size 432x288 with 1 Axes>"
            ]
          },
          "metadata": {
            "tags": [],
            "needs_background": "light"
          }
        }
      ]
    },
    {
      "cell_type": "markdown",
      "metadata": {
        "id": "vk4cHBJV8p3-"
      },
      "source": [
        "## **INSIGHTS**\n",
        "Now we are seeing some good info both on training and testing data, **as the age of person increase risk of getting Heart Disease Increases**"
      ]
    },
    {
      "cell_type": "markdown",
      "metadata": {
        "id": "jXdViwhmN3Vj"
      },
      "source": [
        "##**BP Bucket**\n",
        "Just out of a common thought a lot many people told highBP leads to high disease lets check"
      ]
    },
    {
      "cell_type": "code",
      "metadata": {
        "id": "70V0LyApGkYq"
      },
      "source": [
        "ldf=[train_df,final_testX]\n",
        "for df in ldf:\n",
        "  df['BP_Bucket']= pd.cut(df.avgBP,bins=5,labels=['Very_Low_BP','lowBP','healthyBP','HighBP','Very_high_BP'])"
      ],
      "execution_count": null,
      "outputs": []
    },
    {
      "cell_type": "code",
      "metadata": {
        "colab": {
          "base_uri": "https://localhost:8080/"
        },
        "id": "rxY9G78sOyJ9",
        "outputId": "a80e31d6-e8c5-4caf-9455-7ee83f45e650"
      },
      "source": [
        "train_df['BP_Bucket'].value_counts()"
      ],
      "execution_count": null,
      "outputs": [
        {
          "output_type": "execute_result",
          "data": {
            "text/plain": [
              "healthyBP       1141\n",
              "lowBP            827\n",
              "HighBP           524\n",
              "Very_high_BP     129\n",
              "Very_Low_BP       91\n",
              "Name: BP_Bucket, dtype: int64"
            ]
          },
          "metadata": {
            "tags": []
          },
          "execution_count": 55
        }
      ]
    },
    {
      "cell_type": "code",
      "metadata": {
        "colab": {
          "base_uri": "https://localhost:8080/",
          "height": 312
        },
        "id": "uERItS_0HLgM",
        "outputId": "fe899a4f-4676-4129-8582-86f0d98d1f85"
      },
      "source": [
        "ax=sns.factorplot('BP_Bucket','RISK',kind='bar',\n",
        "                    data=train_df,size=4,aspect=1.5)\n",
        "ax=ax.set_ylabels(\"RISK Probability\")"
      ],
      "execution_count": null,
      "outputs": [
        {
          "output_type": "display_data",
          "data": {
            "image/png": "[encoded data removed]",
            "text/plain": [
              "<Figure size 432x288 with 1 Axes>"
            ]
          },
          "metadata": {
            "tags": [],
            "needs_background": "light"
          }
        }
      ]
    },
    {
      "cell_type": "code",
      "metadata": {
        "colab": {
          "base_uri": "https://localhost:8080/",
          "height": 312
        },
        "id": "DV5aNdElPDX7",
        "outputId": "331d845f-3696-4bf1-fee8-f61a339b51f0"
      },
      "source": [
        "ax=sns.factorplot('BP_Bucket',final_testY,kind='bar',\n",
        "                    data=final_testX,size=4,aspect=1.5)\n",
        "ax=ax.set_ylabels(\"RISK Probability\")"
      ],
      "execution_count": null,
      "outputs": [
        {
          "output_type": "display_data",
          "data": {
            "image/png": "[encoded data removed]",
            "text/plain": [
              "<Figure size 432x288 with 1 Axes>"
            ]
          },
          "metadata": {
            "tags": [],
            "needs_background": "light"
          }
        }
      ]
    },
    {
      "cell_type": "code",
      "metadata": {
        "id": "_PM7hCmi4GW4"
      },
      "source": [
        "df=train_df.copy()\n",
        "fdf=final_testX.copy()"
      ],
      "execution_count": null,
      "outputs": []
    },
    {
      "cell_type": "code",
      "metadata": {
        "colab": {
          "base_uri": "https://localhost:8080/",
          "height": 319
        },
        "id": "ss64dgpiDJgH",
        "outputId": "aca881d1-8f8a-4deb-959b-993218f9e8d4"
      },
      "source": [
        "labels = 'Non Risk',\"Risk\"\n",
        "my_colors = ['lightblue','red']\n",
        "my_explode = (0,0.1)\n",
        "plt.figure(figsize=(6,5))\n",
        "plt.pie(train_df['RISK'].value_counts(), labels=labels ,autopct='%1.0f%%', startangle =15, shadow =True, colors = my_colors, explode=my_explode )\n",
        "plt.title(\"Cardiovascular Risk rate\")\n",
        "plt.axis('equal')\n",
        "plt.show()\n",
        "\n"
      ],
      "execution_count": null,
      "outputs": [
        {
          "output_type": "display_data",
          "data": {
            "image/png": "[encoded data removed]",
            "text/plain": [
              "<Figure size 432x360 with 1 Axes>"
            ]
          },
          "metadata": {
            "tags": []
          }
        }
      ]
    },
    {
      "cell_type": "markdown",
      "metadata": {
        "id": "sVc0UaaLE37h"
      },
      "source": [
        "##**5.Class Imbalanced issue and Evaluation-metric to be chosen**\n",
        "---\n",
        "### In this problem we have a dataset of patients where we have to find out whether the given features or symptom a person has he/she has a Cardiovascular disease in future.\n",
        "\n",
        "But here’s the catch… the risk rate is relatively rare, only 15% of the people have this disease.\n",
        "\n",
        "\n",
        "\n",
        "\n",
        "\n",
        "\n"
      ]
    },
    {
      "cell_type": "markdown",
      "metadata": {
        "id": "uxdMKkEuQTDW"
      },
      "source": [
        "Well, let's guess what? We created a ML model and our “solution” would have 94% accuracy!\n",
        "\n",
        "Unfortunately, that accuracy is misleading.\n",
        "\n",
        "* All those non-risk cases, we’d have 100% accuracy.\n",
        "* Those cases in which a person has a risk, we’d have 0% accuracy.\n",
        "* Our overall accuracy would be high simply because the most cases are not getting the disease.\n",
        "\n",
        "This is clearly a problem because many machine learning algorithms are designed to maximize overall accuracy."
      ]
    },
    {
      "cell_type": "markdown",
      "metadata": {
        "id": "xRcxvIBVQ8un"
      },
      "source": [
        "## The Metric Trap\n",
        "\n",
        "One of the major issues when dealing with unbalanced datasets relates to the metrics used to evaluate their model. Using simpler metrics like accuracy score can be misleading. In a dataset with highly unbalanced classes, the classifier will always “predict” the most common class without performing any analysis of the features and it will have a high accuracy rate, obviously not the correct one.\n",
        "\n"
      ]
    },
    {
      "cell_type": "markdown",
      "metadata": {
        "id": "uqyCH8lBsJQk"
      },
      "source": [
        "## For the given binary classification problem **Recall** of the ML model should be very high.\n",
        "The False Negative or TypeII error should be zero"
      ]
    },
    {
      "cell_type": "markdown",
      "metadata": {
        "id": "osM2gnghSaD9"
      },
      "source": [
        "##**6.Model Trainning**\n",
        "---\n",
        "\n",
        "**Preprocessing**\n",
        "\n",
        "Encoding the binary categorical features"
      ]
    },
    {
      "cell_type": "code",
      "metadata": {
        "colab": {
          "base_uri": "https://localhost:8080/"
        },
        "id": "qL5b1zmIi7M0",
        "outputId": "5b2eb242-b772-45a4-d87d-da68fa2d9fe7"
      },
      "source": [
        "[{col:train_df[col].unique()} for col in categorical_columns]"
      ],
      "execution_count": null,
      "outputs": [
        {
          "output_type": "execute_result",
          "data": {
            "text/plain": [
              "[{'sex': array(['F', 'M'], dtype=object)},\n",
              " {'is_smoking': array(['YES', 'NO'], dtype=object)}]"
            ]
          },
          "metadata": {
            "tags": []
          },
          "execution_count": 63
        }
      ]
    },
    {
      "cell_type": "code",
      "metadata": {
        "id": "8DXChQGaFONG"
      },
      "source": [
        "def preprocess_inputs(df):\n",
        "  df=df.copy()\n",
        "  #binary encoding\n",
        "  df['sex']= df['sex'].apply(lambda x: 1 if x=='M' else 0)\n",
        "  df['is_smoking']= df['is_smoking'].apply(lambda x: 1 if x=='YES' else 0)\n",
        "\n",
        "  #Extract numerical features\n",
        "  num_df= df.select_dtypes(include=['int8','int32','int64','float64'])\n",
        "\n",
        "  #Extract categorical features\n",
        "  cat_df= df.select_dtypes(include=['category','object'])\n",
        "\n",
        "  #One hot encode categorical variables\n",
        "  features_cat= pd.get_dummies(cat_df,drop_first=True)\n",
        "\n",
        "  #concat the features\n",
        "  df= pd.concat([num_df,features_cat],axis=1)\n",
        "  \n",
        "  return df"
      ],
      "execution_count": null,
      "outputs": []
    },
    {
      "cell_type": "code",
      "metadata": {
        "id": "6S5d-5h_lW9S"
      },
      "source": [
        "train_data= preprocess_inputs(train_df)\n",
        "test_data= preprocess_inputs(final_testX)"
      ],
      "execution_count": null,
      "outputs": []
    },
    {
      "cell_type": "code",
      "metadata": {
        "colab": {
          "base_uri": "https://localhost:8080/",
          "height": 226
        },
        "id": "H_MZ72QXlqaB",
        "outputId": "8fb4114b-e8a2-482a-a769-e78a74aa386a"
      },
      "source": [
        "train_data.head()"
      ],
      "execution_count": null,
      "outputs": [
        {
          "output_type": "execute_result",
          "data": {
            "text/html": [
              "<div>\n",
              "<style scoped>\n",
              "    .dataframe tbody tr th:only-of-type {\n",
              "        vertical-align: middle;\n",
              "    }\n",
              "\n",
              "    .dataframe tbody tr th {\n",
              "        vertical-align: top;\n",
              "    }\n",
              "\n",
              "    .dataframe thead th {\n",
              "        text-align: right;\n",
              "    }\n",
              "</style>\n",
              "<table border=\"1\" class=\"dataframe\">\n",
              "  <thead>\n",
              "    <tr style=\"text-align: right;\">\n",
              "      <th></th>\n",
              "      <th>age</th>\n",
              "      <th>education</th>\n",
              "      <th>sex</th>\n",
              "      <th>is_smoking</th>\n",
              "      <th>cigsPerDay</th>\n",
              "      <th>totChol</th>\n",
              "      <th>BMI</th>\n",
              "      <th>heartRate</th>\n",
              "      <th>glucose</th>\n",
              "      <th>RISK</th>\n",
              "      <th>bp_ratio</th>\n",
              "      <th>avgBP</th>\n",
              "      <th>BPMeds_0.3333333333333333</th>\n",
              "      <th>BPMeds_0.6666666666666666</th>\n",
              "      <th>BPMeds_1.0</th>\n",
              "      <th>prevalentStroke_1.0</th>\n",
              "      <th>prevalentHyp_1.0</th>\n",
              "      <th>diabetes_1.0</th>\n",
              "      <th>Age_Bucket_Mid30</th>\n",
              "      <th>Age_Bucket_Early40</th>\n",
              "      <th>Age_Bucket_Mid40</th>\n",
              "      <th>Age_Bucket_late40</th>\n",
              "      <th>Age_Bucket_Early50</th>\n",
              "      <th>Age_Bucket_Mid50</th>\n",
              "      <th>Age_Bucket_late50</th>\n",
              "      <th>Age_Bucket_Mid60</th>\n",
              "      <th>Age_Bucket_late60</th>\n",
              "      <th>BP_Bucket_lowBP</th>\n",
              "      <th>BP_Bucket_healthyBP</th>\n",
              "      <th>BP_Bucket_HighBP</th>\n",
              "      <th>BP_Bucket_Very_high_BP</th>\n",
              "    </tr>\n",
              "  </thead>\n",
              "  <tbody>\n",
              "    <tr>\n",
              "      <th>542</th>\n",
              "      <td>49.0</td>\n",
              "      <td>2.0</td>\n",
              "      <td>0</td>\n",
              "      <td>1</td>\n",
              "      <td>20</td>\n",
              "      <td>229.0</td>\n",
              "      <td>21.42</td>\n",
              "      <td>76.0</td>\n",
              "      <td>72.333333</td>\n",
              "      <td>0</td>\n",
              "      <td>1.55</td>\n",
              "      <td>97.50</td>\n",
              "      <td>0</td>\n",
              "      <td>0</td>\n",
              "      <td>0</td>\n",
              "      <td>0</td>\n",
              "      <td>0</td>\n",
              "      <td>0</td>\n",
              "      <td>0</td>\n",
              "      <td>0</td>\n",
              "      <td>0</td>\n",
              "      <td>1</td>\n",
              "      <td>0</td>\n",
              "      <td>0</td>\n",
              "      <td>0</td>\n",
              "      <td>0</td>\n",
              "      <td>0</td>\n",
              "      <td>1</td>\n",
              "      <td>0</td>\n",
              "      <td>0</td>\n",
              "      <td>0</td>\n",
              "    </tr>\n",
              "    <tr>\n",
              "      <th>2726</th>\n",
              "      <td>51.0</td>\n",
              "      <td>3.0</td>\n",
              "      <td>1</td>\n",
              "      <td>0</td>\n",
              "      <td>0</td>\n",
              "      <td>215.0</td>\n",
              "      <td>28.59</td>\n",
              "      <td>65.0</td>\n",
              "      <td>100.000000</td>\n",
              "      <td>0</td>\n",
              "      <td>1.53</td>\n",
              "      <td>121.50</td>\n",
              "      <td>0</td>\n",
              "      <td>0</td>\n",
              "      <td>0</td>\n",
              "      <td>0</td>\n",
              "      <td>0</td>\n",
              "      <td>0</td>\n",
              "      <td>0</td>\n",
              "      <td>0</td>\n",
              "      <td>0</td>\n",
              "      <td>1</td>\n",
              "      <td>0</td>\n",
              "      <td>0</td>\n",
              "      <td>0</td>\n",
              "      <td>0</td>\n",
              "      <td>0</td>\n",
              "      <td>0</td>\n",
              "      <td>0</td>\n",
              "      <td>1</td>\n",
              "      <td>0</td>\n",
              "    </tr>\n",
              "    <tr>\n",
              "      <th>3067</th>\n",
              "      <td>57.0</td>\n",
              "      <td>1.0</td>\n",
              "      <td>0</td>\n",
              "      <td>1</td>\n",
              "      <td>1</td>\n",
              "      <td>254.0</td>\n",
              "      <td>25.38</td>\n",
              "      <td>72.0</td>\n",
              "      <td>85.000000</td>\n",
              "      <td>1</td>\n",
              "      <td>1.81</td>\n",
              "      <td>113.75</td>\n",
              "      <td>0</td>\n",
              "      <td>0</td>\n",
              "      <td>0</td>\n",
              "      <td>0</td>\n",
              "      <td>1</td>\n",
              "      <td>0</td>\n",
              "      <td>0</td>\n",
              "      <td>0</td>\n",
              "      <td>0</td>\n",
              "      <td>0</td>\n",
              "      <td>0</td>\n",
              "      <td>1</td>\n",
              "      <td>0</td>\n",
              "      <td>0</td>\n",
              "      <td>0</td>\n",
              "      <td>0</td>\n",
              "      <td>1</td>\n",
              "      <td>0</td>\n",
              "      <td>0</td>\n",
              "    </tr>\n",
              "    <tr>\n",
              "      <th>204</th>\n",
              "      <td>59.0</td>\n",
              "      <td>4.0</td>\n",
              "      <td>0</td>\n",
              "      <td>0</td>\n",
              "      <td>0</td>\n",
              "      <td>282.0</td>\n",
              "      <td>28.96</td>\n",
              "      <td>72.0</td>\n",
              "      <td>85.666667</td>\n",
              "      <td>0</td>\n",
              "      <td>1.55</td>\n",
              "      <td>111.00</td>\n",
              "      <td>0</td>\n",
              "      <td>0</td>\n",
              "      <td>1</td>\n",
              "      <td>0</td>\n",
              "      <td>1</td>\n",
              "      <td>0</td>\n",
              "      <td>0</td>\n",
              "      <td>0</td>\n",
              "      <td>0</td>\n",
              "      <td>0</td>\n",
              "      <td>0</td>\n",
              "      <td>0</td>\n",
              "      <td>1</td>\n",
              "      <td>0</td>\n",
              "      <td>0</td>\n",
              "      <td>0</td>\n",
              "      <td>1</td>\n",
              "      <td>0</td>\n",
              "      <td>0</td>\n",
              "    </tr>\n",
              "    <tr>\n",
              "      <th>329</th>\n",
              "      <td>52.0</td>\n",
              "      <td>1.0</td>\n",
              "      <td>0</td>\n",
              "      <td>0</td>\n",
              "      <td>0</td>\n",
              "      <td>275.0</td>\n",
              "      <td>25.68</td>\n",
              "      <td>80.0</td>\n",
              "      <td>82.000000</td>\n",
              "      <td>0</td>\n",
              "      <td>1.58</td>\n",
              "      <td>91.50</td>\n",
              "      <td>0</td>\n",
              "      <td>0</td>\n",
              "      <td>0</td>\n",
              "      <td>0</td>\n",
              "      <td>0</td>\n",
              "      <td>0</td>\n",
              "      <td>0</td>\n",
              "      <td>0</td>\n",
              "      <td>0</td>\n",
              "      <td>0</td>\n",
              "      <td>1</td>\n",
              "      <td>0</td>\n",
              "      <td>0</td>\n",
              "      <td>0</td>\n",
              "      <td>0</td>\n",
              "      <td>1</td>\n",
              "      <td>0</td>\n",
              "      <td>0</td>\n",
              "      <td>0</td>\n",
              "    </tr>\n",
              "  </tbody>\n",
              "</table>\n",
              "</div>"
            ],
            "text/plain": [
              "       age  education  ...  BP_Bucket_HighBP  BP_Bucket_Very_high_BP\n",
              "542   49.0        2.0  ...                 0                       0\n",
              "2726  51.0        3.0  ...                 1                       0\n",
              "3067  57.0        1.0  ...                 0                       0\n",
              "204   59.0        4.0  ...                 0                       0\n",
              "329   52.0        1.0  ...                 0                       0\n",
              "\n",
              "[5 rows x 31 columns]"
            ]
          },
          "metadata": {
            "tags": []
          },
          "execution_count": 67
        }
      ]
    },
    {
      "cell_type": "markdown",
      "metadata": {
        "id": "mKgAcWU6mdB0"
      },
      "source": [
        "##**Data Ready to be feeden**"
      ]
    },
    {
      "cell_type": "code",
      "metadata": {
        "id": "zovXUw3Dl44o"
      },
      "source": [
        "#scaling\n",
        "from sklearn.preprocessing import StandardScaler\n",
        "#Sampling\n",
        "from imblearn.over_sampling import RandomOverSampler\n",
        "from imblearn.over_sampling import SMOTE\n",
        "\n",
        "# Evaluation metrics\n",
        "from sklearn import model_selection\n",
        "from sklearn.model_selection import train_test_split\n",
        "from sklearn.model_selection import StratifiedKFold\n",
        "from sklearn.model_selection import StratifiedShuffleSplit\n",
        "from sklearn.model_selection import KFold\n",
        "from sklearn.metrics import f1_score, confusion_matrix,classification_report\n",
        "from sklearn.model_selection import GridSearchCV, RandomizedSearchCV\n",
        "from sklearn.model_selection import KFold\n",
        "from sklearn.metrics import plot_roc_curve\n",
        "import sklearn.metrics as metrics\n",
        "\n",
        "# Import the necessary modelling algos.\n",
        "from sklearn.linear_model import LogisticRegression, LogisticRegressionCV\n",
        "from sklearn.svm import LinearSVC\n",
        "from sklearn.svm import SVC\n",
        "from sklearn.neighbors import KNeighborsClassifier\n",
        "from sklearn.ensemble import RandomForestClassifier, AdaBoostClassifier,GradientBoostingClassifier\n",
        "from sklearn.tree import DecisionTreeClassifier\n",
        "from xgboost import XGBClassifier\n",
        "from sklearn.naive_bayes import GaussianNB\n"
      ],
      "execution_count": null,
      "outputs": []
    },
    {
      "cell_type": "code",
      "metadata": {
        "id": "Hz3YxZL3owIP"
      },
      "source": [
        "#Features and Target\n",
        "X= train_data.drop('RISK',axis=1)\n",
        "y=train_data['RISK']"
      ],
      "execution_count": null,
      "outputs": []
    },
    {
      "cell_type": "code",
      "metadata": {
        "id": "YD264ALdpLFO"
      },
      "source": [
        "#splitting into train test\n",
        "X_train,X_test,y_train,y_test= train_test_split(X,y,test_size=0.2,random_state=1,stratify=y)"
      ],
      "execution_count": null,
      "outputs": []
    },
    {
      "cell_type": "code",
      "metadata": {
        "colab": {
          "base_uri": "https://localhost:8080/"
        },
        "id": "_mGc61WRphjS",
        "outputId": "8cf89b97-0bc9-42c2-88f1-1364dfbcbf35"
      },
      "source": [
        "print(X_train.shape[0],X_test.shape[0])"
      ],
      "execution_count": null,
      "outputs": [
        {
          "output_type": "stream",
          "text": [
            "2169 543\n"
          ],
          "name": "stdout"
        }
      ]
    },
    {
      "cell_type": "code",
      "metadata": {
        "id": "0WJvzuTfplL4"
      },
      "source": [
        "#scaling both Train ,test and validation sets\n",
        "sc_X= StandardScaler()\n",
        "X_train=sc_X.fit_transform(X_train)\n",
        "X_test=sc_X.fit_transform(X_test)\n",
        "test_data=sc_X.fit_transform(test_data)"
      ],
      "execution_count": null,
      "outputs": []
    },
    {
      "cell_type": "code",
      "metadata": {
        "colab": {
          "base_uri": "https://localhost:8080/"
        },
        "id": "yCQms_3Bq7uM",
        "outputId": "aaaa531f-0f5b-45cf-ef8f-57684925e45a"
      },
      "source": [
        "smote = SMOTE(random_state=0)\n",
        "\n",
        "# fit predictor and target variable\n",
        "x_smote, y_smote = smote.fit_resample(X_train,y_train)\n",
        "\n",
        "print('Original dataset shape', len(y_train))\n",
        "print('Resampled dataset shape', len(y_smote))"
      ],
      "execution_count": null,
      "outputs": [
        {
          "output_type": "stream",
          "text": [
            "Original dataset shape 2169\n",
            "Resampled dataset shape 3684\n"
          ],
          "name": "stdout"
        }
      ]
    },
    {
      "cell_type": "code",
      "metadata": {
        "colab": {
          "base_uri": "https://localhost:8080/"
        },
        "id": "e6irGi7YqXjW",
        "outputId": "5723049d-9118-49e5-ec8d-5004647f83ec"
      },
      "source": [
        "baseline = GradientBoostingClassifier(learning_rate=0.1, n_estimators=100,max_depth=3, min_samples_split=2, min_samples_leaf=1, subsample=1,max_features='sqrt', random_state=10)\n",
        "baseline.fit(x_smote,y_smote)\n",
        "print('Accuracy of the GBM on test set: {:.3f}'.format(baseline.score(X_test, y_test)))\n",
        "pred=baseline.predict(X_test)\n",
        "print(classification_report(y_test, pred))"
      ],
      "execution_count": null,
      "outputs": [
        {
          "output_type": "stream",
          "text": [
            "Accuracy of the GBM on test set: 0.304\n",
            "              precision    recall  f1-score   support\n",
            "\n",
            "           0       0.93      0.20      0.32       461\n",
            "           1       0.17      0.91      0.28        82\n",
            "\n",
            "    accuracy                           0.30       543\n",
            "   macro avg       0.55      0.55      0.30       543\n",
            "weighted avg       0.81      0.30      0.32       543\n",
            "\n"
          ],
          "name": "stdout"
        }
      ]
    },
    {
      "cell_type": "code",
      "metadata": {
        "id": "pdlf8z1bqzRD"
      },
      "source": [
        ""
      ],
      "execution_count": null,
      "outputs": []
    }
  ]
}